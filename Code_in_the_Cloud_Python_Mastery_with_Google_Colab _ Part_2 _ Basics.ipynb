{
  "nbformat": 4,
  "nbformat_minor": 0,
  "metadata": {
    "colab": {
      "provenance": [],
      "authorship_tag": "ABX9TyMMfYecxniwbfmLYzNUFsGe",
      "include_colab_link": true
    },
    "kernelspec": {
      "name": "python3",
      "display_name": "Python 3"
    },
    "language_info": {
      "name": "python"
    }
  },
  "cells": [
    {
      "cell_type": "markdown",
      "metadata": {
        "id": "view-in-github",
        "colab_type": "text"
      },
      "source": [
        "<a href=\"https://colab.research.google.com/github/AmirHosseinAlikhahMishamandani/Code-in-the-Cloud-Python-Mastery-with-Google-Colab/blob/main/Code_in_the_Cloud_Python_Mastery_with_Google_Colab%E2%80%8A_%E2%80%8APart_2%E2%80%8A_%E2%80%8ABasics.ipynb\" target=\"_parent\"><img src=\"https://colab.research.google.com/assets/colab-badge.svg\" alt=\"Open In Colab\"/></a>"
      ]
    },
    {
      "cell_type": "markdown",
      "source": [
        "# Code in the Cloud: Python Mastery with Google Colab - Part 2 - Basics"
      ],
      "metadata": {
        "id": "WeTtOy03Tqya"
      }
    },
    {
      "cell_type": "markdown",
      "source": [
        "## Mastering List Manipulation"
      ],
      "metadata": {
        "id": "8c5QCN2XE1Qs"
      }
    },
    {
      "cell_type": "markdown",
      "source": [
        "### Creating Lists"
      ],
      "metadata": {
        "id": "WaN0Qfr-gaw5"
      }
    },
    {
      "cell_type": "code",
      "execution_count": 3,
      "metadata": {
        "id": "mBP8EVLPTpMO"
      },
      "outputs": [],
      "source": [
        "# Creating a list of integers\n",
        "my_list = [1, 2, 3, 4, 5]\n",
        "\n",
        "# Creating a list of strings\n",
        "fruits = [\"apple\", \"banana\", \"orange\"]\n",
        "\n",
        "# Creating a list of mixed data types\n",
        "mixed_list = [1, \"hello\", 3.14, True]"
      ]
    },
    {
      "cell_type": "markdown",
      "source": [
        "### Accessing Elements"
      ],
      "metadata": {
        "id": "eHfLuw-NgeAs"
      }
    },
    {
      "cell_type": "code",
      "source": [
        "# Creating a list of integers\n",
        "my_list = [1, 2, 3, 4, 5]\n",
        "\n",
        "# Accessing elements\n",
        "print(my_list[0])      # Output: 1\n",
        "print(my_list[-1])      # Output: 5"
      ],
      "metadata": {
        "colab": {
          "base_uri": "https://localhost:8080/"
        },
        "id": "yRtARghfgf1n",
        "outputId": "0dd6ef27-5ba6-4625-84ee-f461d38ec0a1"
      },
      "execution_count": 4,
      "outputs": [
        {
          "output_type": "stream",
          "name": "stdout",
          "text": [
            "1\n",
            "5\n"
          ]
        }
      ]
    },
    {
      "cell_type": "code",
      "source": [
        "# Creating a list of integers\n",
        "my_list = [1, 2, 3, 4, 5]\n",
        "\n",
        "# Accessing invalid element\n",
        "print(my_list[5])"
      ],
      "metadata": {
        "colab": {
          "base_uri": "https://localhost:8080/",
          "height": 190
        },
        "id": "tCnfMr3mmcc_",
        "outputId": "d5f035ee-291f-470b-bad6-106e5ee9d1fb"
      },
      "execution_count": 20,
      "outputs": [
        {
          "output_type": "error",
          "ename": "IndexError",
          "evalue": "list index out of range",
          "traceback": [
            "\u001b[0;31m---------------------------------------------------------------------------\u001b[0m",
            "\u001b[0;31mIndexError\u001b[0m                                Traceback (most recent call last)",
            "\u001b[0;32m<ipython-input-20-57232492676a>\u001b[0m in \u001b[0;36m<cell line: 5>\u001b[0;34m()\u001b[0m\n\u001b[1;32m      3\u001b[0m \u001b[0;34m\u001b[0m\u001b[0m\n\u001b[1;32m      4\u001b[0m \u001b[0;31m# Accessing invalid element\u001b[0m\u001b[0;34m\u001b[0m\u001b[0;34m\u001b[0m\u001b[0m\n\u001b[0;32m----> 5\u001b[0;31m \u001b[0mprint\u001b[0m\u001b[0;34m(\u001b[0m\u001b[0mmy_list\u001b[0m\u001b[0;34m[\u001b[0m\u001b[0;36m5\u001b[0m\u001b[0;34m]\u001b[0m\u001b[0;34m)\u001b[0m\u001b[0;34m\u001b[0m\u001b[0;34m\u001b[0m\u001b[0m\n\u001b[0m",
            "\u001b[0;31mIndexError\u001b[0m: list index out of range"
          ]
        }
      ]
    },
    {
      "cell_type": "markdown",
      "source": [
        "### Slicing Lists"
      ],
      "metadata": {
        "id": "sMbX9s8QhLdu"
      }
    },
    {
      "cell_type": "code",
      "source": [
        "# Creating a list of integers\n",
        "my_list = [0, 1, 2, 3, 4, 5, 6, 7, 8, 9]\n",
        "\n",
        "# Slicing lists\n",
        "print(my_list[0:2]) # Elements from index 0 to 1 (upper domain is exclusive)\n",
        "print(my_list[:5])  # Elements from index 0 to 4 (upper domain is exclusive)\n",
        "print(my_list[8:])  # Elements from index 8 to the end (upper domain is exclusive)"
      ],
      "metadata": {
        "colab": {
          "base_uri": "https://localhost:8080/"
        },
        "id": "0IxDQAvPhMKK",
        "outputId": "10848c8d-45fe-4f9e-99ac-20da0253ea55"
      },
      "execution_count": 9,
      "outputs": [
        {
          "output_type": "stream",
          "name": "stdout",
          "text": [
            "[0, 1]\n",
            "[0, 1, 2, 3, 4]\n",
            "[8, 9]\n"
          ]
        }
      ]
    },
    {
      "cell_type": "markdown",
      "source": [
        "### Modifying Lists"
      ],
      "metadata": {
        "id": "Q-4ZhlKqiR-J"
      }
    },
    {
      "cell_type": "code",
      "source": [
        "# Creating a list of strings\n",
        "fruits = [\"apple\", \"banana\", \"orange\"]\n",
        "\n",
        "print(fruits)\n",
        "\n",
        "fruits[1] = 'peach'\n",
        "\n",
        "print(fruits)"
      ],
      "metadata": {
        "colab": {
          "base_uri": "https://localhost:8080/"
        },
        "id": "5pnbSFBtiSl_",
        "outputId": "ed2c4a7f-fae9-47f6-83ac-da95b047b2dd"
      },
      "execution_count": 10,
      "outputs": [
        {
          "output_type": "stream",
          "name": "stdout",
          "text": [
            "['apple', 'banana', 'orange']\n",
            "['apple', 'peach', 'orange']\n"
          ]
        }
      ]
    },
    {
      "cell_type": "markdown",
      "source": [
        "### Adding Elements"
      ],
      "metadata": {
        "id": "BEaATk2pi30M"
      }
    },
    {
      "cell_type": "code",
      "source": [
        "# Creating a list of strings\n",
        "fruits = [\"apple\", \"banana\", \"orange\"]\n",
        "\n",
        "# Adding elements\n",
        "fruits.append(\"grape\")\n",
        "print(fruits)\n",
        "\n",
        "fruits.insert(1, \"kiwi\")\n",
        "print(fruits)"
      ],
      "metadata": {
        "colab": {
          "base_uri": "https://localhost:8080/"
        },
        "id": "WVOul6Kyi4YW",
        "outputId": "927a088a-50cb-4c70-dadd-943b6d48b1c5"
      },
      "execution_count": 11,
      "outputs": [
        {
          "output_type": "stream",
          "name": "stdout",
          "text": [
            "['apple', 'banana', 'orange', 'grape']\n",
            "['apple', 'kiwi', 'banana', 'orange', 'grape']\n"
          ]
        }
      ]
    },
    {
      "cell_type": "markdown",
      "source": [
        "### Removing Elements"
      ],
      "metadata": {
        "id": "hsQvcrLijLC5"
      }
    },
    {
      "cell_type": "code",
      "source": [
        "# Creating a list of strings\n",
        "fruits = ['apple', 'kiwi', 'banana', 'orange', 'grape']\n",
        "\n",
        "# Removing elements\n",
        "fruits.remove(\"banana\")\n",
        "print(fruits)\n",
        "removed_item = fruits.pop(2)\n",
        "print(removed_item)\n",
        "print(fruits)"
      ],
      "metadata": {
        "colab": {
          "base_uri": "https://localhost:8080/"
        },
        "id": "rhura6rgjNYe",
        "outputId": "66ae080c-ea49-4812-8cb1-aca73ed587cf"
      },
      "execution_count": 13,
      "outputs": [
        {
          "output_type": "stream",
          "name": "stdout",
          "text": [
            "['apple', 'kiwi', 'orange', 'grape']\n",
            "orange\n",
            "['apple', 'kiwi', 'grape']\n"
          ]
        }
      ]
    },
    {
      "cell_type": "markdown",
      "source": [
        "### Combining Lists"
      ],
      "metadata": {
        "id": "6cRnABa3j6TE"
      }
    },
    {
      "cell_type": "code",
      "source": [
        "# Combining lists\n",
        "list1 = [1, 2, 3]\n",
        "list2 = [4, 5, 6]\n",
        "combined_list = list1 + list2\n",
        "print(combined_list)\n",
        "\n",
        "list1.extend(list2)\n",
        "print(list1)"
      ],
      "metadata": {
        "colab": {
          "base_uri": "https://localhost:8080/"
        },
        "id": "mDLTRMW2j7ji",
        "outputId": "4a31f68a-2a48-45e5-e2d5-14d5804394c5"
      },
      "execution_count": 14,
      "outputs": [
        {
          "output_type": "stream",
          "name": "stdout",
          "text": [
            "[1, 2, 3, 4, 5, 6]\n",
            "[1, 2, 3, 4, 5, 6]\n"
          ]
        }
      ]
    },
    {
      "cell_type": "markdown",
      "source": [
        "### Sorting Lists"
      ],
      "metadata": {
        "id": "ItxQTc1ikuTp"
      }
    },
    {
      "cell_type": "code",
      "source": [
        "# Sorting lists\n",
        "numbers = [3, 1, 5, 2, 4]\n",
        "numbers.sort()\n",
        "print(numbers)\n",
        "\n",
        "numbers = [3, 1, 5, 2, 4]\n",
        "print(f'{numbers} \\n{sorted(numbers, reverse=True)}')"
      ],
      "metadata": {
        "colab": {
          "base_uri": "https://localhost:8080/"
        },
        "id": "lQuoA3sxku46",
        "outputId": "cba64992-86ee-4b8c-fc53-ef91eb5de215"
      },
      "execution_count": 18,
      "outputs": [
        {
          "output_type": "stream",
          "name": "stdout",
          "text": [
            "[1, 2, 3, 4, 5]\n",
            "[3, 1, 5, 2, 4] \n",
            "[5, 4, 3, 2, 1]\n"
          ]
        }
      ]
    },
    {
      "cell_type": "markdown",
      "source": [
        "### Finding the Length of a List"
      ],
      "metadata": {
        "id": "PiuHynU_l5Vq"
      }
    },
    {
      "cell_type": "code",
      "source": [
        "my_list = [1, 2, 3, 4, 5]\n",
        "length_of_list = len(my_list)\n",
        "print(\"Length of the list:\", length_of_list)"
      ],
      "metadata": {
        "colab": {
          "base_uri": "https://localhost:8080/"
        },
        "id": "3plpmFGxl7PV",
        "outputId": "1f1c7a71-1878-4c78-a4ec-cd1cb711915d"
      },
      "execution_count": 19,
      "outputs": [
        {
          "output_type": "stream",
          "name": "stdout",
          "text": [
            "Length of the list: 5\n"
          ]
        }
      ]
    },
    {
      "cell_type": "markdown",
      "source": [
        "## Comprehensive Guide to For Loops"
      ],
      "metadata": {
        "id": "411Y1_tanOwe"
      }
    },
    {
      "cell_type": "markdown",
      "source": [
        "### Iterating Over a List"
      ],
      "metadata": {
        "id": "VSqd8KJBovYr"
      }
    },
    {
      "cell_type": "code",
      "source": [
        "fruits = [\"apple\", \"banana\", \"cherry\"]\n",
        "for fruit in fruits:\n",
        "    print(fruit)"
      ],
      "metadata": {
        "colab": {
          "base_uri": "https://localhost:8080/"
        },
        "id": "hwYZaphmnPPu",
        "outputId": "38fdb51c-60c1-4d20-f07f-742e626c867e"
      },
      "execution_count": 21,
      "outputs": [
        {
          "output_type": "stream",
          "name": "stdout",
          "text": [
            "apple\n",
            "banana\n",
            "cherry\n"
          ]
        }
      ]
    },
    {
      "cell_type": "markdown",
      "source": [
        "### Iterating Over a String\n",
        "\n",
        "\n"
      ],
      "metadata": {
        "id": "WrGl7aocpEWE"
      }
    },
    {
      "cell_type": "code",
      "source": [
        "for char in \"hello\":\n",
        "    print(char)"
      ],
      "metadata": {
        "colab": {
          "base_uri": "https://localhost:8080/"
        },
        "id": "MKyTfHY2pFCi",
        "outputId": "37571867-f69c-4b26-de03-42fcbc776cf5"
      },
      "execution_count": 22,
      "outputs": [
        {
          "output_type": "stream",
          "name": "stdout",
          "text": [
            "h\n",
            "e\n",
            "l\n",
            "l\n",
            "o\n"
          ]
        }
      ]
    },
    {
      "cell_type": "markdown",
      "source": [
        "### Using the enumerate Function"
      ],
      "metadata": {
        "id": "u4tgXo7avlto"
      }
    },
    {
      "cell_type": "code",
      "source": [
        "fruits = [\"apple\", \"banana\", \"cherry\"]\n",
        "for index, fruit in enumerate(fruits):\n",
        "    print(index, fruit)"
      ],
      "metadata": {
        "colab": {
          "base_uri": "https://localhost:8080/"
        },
        "id": "vnIHORIrvmit",
        "outputId": "6313e968-3571-4da0-881f-27f7d2b3a08f"
      },
      "execution_count": 1,
      "outputs": [
        {
          "output_type": "stream",
          "name": "stdout",
          "text": [
            "0 apple\n",
            "1 banana\n",
            "2 cherry\n"
          ]
        }
      ]
    },
    {
      "cell_type": "markdown",
      "source": [
        "### Nested for Loops"
      ],
      "metadata": {
        "id": "2aEyZ6S4wvi5"
      }
    },
    {
      "cell_type": "code",
      "source": [
        "adj = [\"red\", \"big\", \"tasty\"]\n",
        "fruits = [\"apple\", \"banana\", \"cherry\"]\n",
        "\n",
        "for ad in adj:\n",
        "    for fruit in fruits:\n",
        "        print(ad, fruit)"
      ],
      "metadata": {
        "colab": {
          "base_uri": "https://localhost:8080/"
        },
        "id": "gbqp6lxAwwGQ",
        "outputId": "9bef9afc-11b3-43a9-d376-12b635cf487c"
      },
      "execution_count": 2,
      "outputs": [
        {
          "output_type": "stream",
          "name": "stdout",
          "text": [
            "red apple\n",
            "red banana\n",
            "red cherry\n",
            "big apple\n",
            "big banana\n",
            "big cherry\n",
            "tasty apple\n",
            "tasty banana\n",
            "tasty cherry\n"
          ]
        }
      ]
    },
    {
      "cell_type": "markdown",
      "source": [
        "### Iterating Over a Range"
      ],
      "metadata": {
        "id": "bovLOkE9x0LT"
      }
    },
    {
      "cell_type": "code",
      "source": [
        "for i in range(5):\n",
        "    print(i)"
      ],
      "metadata": {
        "colab": {
          "base_uri": "https://localhost:8080/"
        },
        "id": "SwkFlvl2x159",
        "outputId": "aefbdc86-5184-4f69-a0e3-6ce6bc8edba7"
      },
      "execution_count": 3,
      "outputs": [
        {
          "output_type": "stream",
          "name": "stdout",
          "text": [
            "0\n",
            "1\n",
            "2\n",
            "3\n",
            "4\n"
          ]
        }
      ]
    },
    {
      "cell_type": "markdown",
      "source": [
        "### Using break and continue Statements"
      ],
      "metadata": {
        "id": "9wTOQ7n_yUTS"
      }
    },
    {
      "cell_type": "code",
      "source": [
        "for i in range(10):\n",
        "    print(i)"
      ],
      "metadata": {
        "colab": {
          "base_uri": "https://localhost:8080/"
        },
        "id": "1Y0P_kLTybGP",
        "outputId": "37ced94e-c594-4411-d954-a94e5c118205"
      },
      "execution_count": 5,
      "outputs": [
        {
          "output_type": "stream",
          "name": "stdout",
          "text": [
            "0\n",
            "1\n",
            "2\n",
            "3\n",
            "4\n",
            "5\n",
            "6\n",
            "7\n",
            "8\n",
            "9\n"
          ]
        }
      ]
    },
    {
      "cell_type": "code",
      "source": [
        "for i in range(10):\n",
        "    if i == 3:\n",
        "        continue  # Skip the rest of the loop and move to the next iteration\n",
        "    if i == 7:\n",
        "        break  # Exit the loop completely\n",
        "    print(i)"
      ],
      "metadata": {
        "colab": {
          "base_uri": "https://localhost:8080/"
        },
        "id": "2xbfi46-yU0Z",
        "outputId": "cadbd8d2-c670-433f-aa4e-a5ec13ea205a"
      },
      "execution_count": 4,
      "outputs": [
        {
          "output_type": "stream",
          "name": "stdout",
          "text": [
            "0\n",
            "1\n",
            "2\n",
            "4\n",
            "5\n",
            "6\n"
          ]
        }
      ]
    },
    {
      "cell_type": "markdown",
      "source": [
        "### Looping Over a Dictionary"
      ],
      "metadata": {
        "id": "kMkIrhkMzDKQ"
      }
    },
    {
      "cell_type": "code",
      "source": [
        "person = {\"name\": \"John\", \"age\": 30, \"city\": \"New York\"}\n",
        "\n",
        "# Looping over keys\n",
        "for key in person:\n",
        "    print(key)\n",
        "\n",
        "# Looping over values\n",
        "for value in person.values():\n",
        "    print(value)\n",
        "\n",
        "# Looping over key-value pairs\n",
        "for key, value in person.items():\n",
        "    print(key, \":\", value)"
      ],
      "metadata": {
        "colab": {
          "base_uri": "https://localhost:8080/"
        },
        "id": "gvXqmhktzELv",
        "outputId": "10e3ed26-15be-43bc-a60d-e81a2ec0bfb8"
      },
      "execution_count": 6,
      "outputs": [
        {
          "output_type": "stream",
          "name": "stdout",
          "text": [
            "name\n",
            "age\n",
            "city\n",
            "John\n",
            "30\n",
            "New York\n",
            "name : John\n",
            "age : 30\n",
            "city : New York\n"
          ]
        }
      ]
    },
    {
      "cell_type": "markdown",
      "source": [
        "### List Comprehension"
      ],
      "metadata": {
        "id": "UpOxeI3LzrCF"
      }
    },
    {
      "cell_type": "code",
      "source": [
        "squares = [x**2 for x in range(10)]\n",
        "print(squares)"
      ],
      "metadata": {
        "colab": {
          "base_uri": "https://localhost:8080/"
        },
        "id": "K0gat3-azsfb",
        "outputId": "78dc702d-3057-443c-f775-ef2be40c14e8"
      },
      "execution_count": 7,
      "outputs": [
        {
          "output_type": "stream",
          "name": "stdout",
          "text": [
            "[0, 1, 4, 9, 16, 25, 36, 49, 64, 81]\n"
          ]
        }
      ]
    },
    {
      "cell_type": "markdown",
      "source": [
        "### Nested List Comprehension"
      ],
      "metadata": {
        "id": "Ii1E9iW70i5x"
      }
    },
    {
      "cell_type": "code",
      "source": [
        "pairs = [(x, y) for x in range(3) for y in range(3)]\n",
        "print(pairs)"
      ],
      "metadata": {
        "colab": {
          "base_uri": "https://localhost:8080/"
        },
        "id": "rXOyl-iF0kby",
        "outputId": "f81696fb-747e-4b07-c178-d68032cf0fba"
      },
      "execution_count": 8,
      "outputs": [
        {
          "output_type": "stream",
          "name": "stdout",
          "text": [
            "[(0, 0), (0, 1), (0, 2), (1, 0), (1, 1), (1, 2), (2, 0), (2, 1), (2, 2)]\n"
          ]
        }
      ]
    },
    {
      "cell_type": "markdown",
      "source": [
        "## Indentation Error"
      ],
      "metadata": {
        "id": "04Az8I2X1THK"
      }
    },
    {
      "cell_type": "code",
      "source": [
        "for i in range(5):\n",
        "print(i) # Incorrect indentation"
      ],
      "metadata": {
        "colab": {
          "base_uri": "https://localhost:8080/",
          "height": 124
        },
        "id": "c5_-pcsa1Ujk",
        "outputId": "d52d6732-f96a-4316-bcb3-094c00e68630"
      },
      "execution_count": 9,
      "outputs": [
        {
          "output_type": "error",
          "ename": "IndentationError",
          "evalue": "expected an indented block after 'for' statement on line 1 (<ipython-input-9-b42bb3e3c7ac>, line 2)",
          "traceback": [
            "\u001b[0;36m  File \u001b[0;32m\"<ipython-input-9-b42bb3e3c7ac>\"\u001b[0;36m, line \u001b[0;32m2\u001b[0m\n\u001b[0;31m    print(i) # Incorrect indentation\u001b[0m\n\u001b[0m    ^\u001b[0m\n\u001b[0;31mIndentationError\u001b[0m\u001b[0;31m:\u001b[0m expected an indented block after 'for' statement on line 1\n"
          ]
        }
      ]
    },
    {
      "cell_type": "code",
      "source": [
        "for i in range(5):\n",
        "    print(i) # Correct indentation"
      ],
      "metadata": {
        "colab": {
          "base_uri": "https://localhost:8080/"
        },
        "id": "o6USl-CX1V8I",
        "outputId": "8f478d11-fe11-4653-a0d0-9d29e25d8eee"
      },
      "execution_count": 10,
      "outputs": [
        {
          "output_type": "stream",
          "name": "stdout",
          "text": [
            "0\n",
            "1\n",
            "2\n",
            "3\n",
            "4\n"
          ]
        }
      ]
    },
    {
      "cell_type": "markdown",
      "source": [
        "## Forgetting the Colon"
      ],
      "metadata": {
        "id": "J3DqScRo14Hp"
      }
    },
    {
      "cell_type": "code",
      "source": [
        "for i in range(5)\n",
        "  print(i)"
      ],
      "metadata": {
        "colab": {
          "base_uri": "https://localhost:8080/",
          "height": 124
        },
        "id": "osr9giZU15Jf",
        "outputId": "1cc786c0-d443-4567-b7f3-0437fd44e2d7"
      },
      "execution_count": 11,
      "outputs": [
        {
          "output_type": "error",
          "ename": "SyntaxError",
          "evalue": "expected ':' (<ipython-input-11-fc36fca50941>, line 1)",
          "traceback": [
            "\u001b[0;36m  File \u001b[0;32m\"<ipython-input-11-fc36fca50941>\"\u001b[0;36m, line \u001b[0;32m1\u001b[0m\n\u001b[0;31m    for i in range(5)\u001b[0m\n\u001b[0m                     ^\u001b[0m\n\u001b[0;31mSyntaxError\u001b[0m\u001b[0;31m:\u001b[0m expected ':'\n"
          ]
        }
      ]
    },
    {
      "cell_type": "code",
      "source": [
        "for i in range(5):\n",
        "    print(i)"
      ],
      "metadata": {
        "colab": {
          "base_uri": "https://localhost:8080/"
        },
        "id": "_7Ttkgce18u9",
        "outputId": "0c54bea1-690e-400f-8abc-badb502dd8b7"
      },
      "execution_count": 12,
      "outputs": [
        {
          "output_type": "stream",
          "name": "stdout",
          "text": [
            "0\n",
            "1\n",
            "2\n",
            "3\n",
            "4\n"
          ]
        }
      ]
    },
    {
      "cell_type": "markdown",
      "source": [
        "## Project: Simple Statistics"
      ],
      "metadata": {
        "id": "9Vd9dZ9J2-5z"
      }
    },
    {
      "cell_type": "code",
      "source": [
        "# Given list of numbers\n",
        "numbers = [10, 5, 7, 13, 8, 22, 15, 12, 9]\n",
        "\n",
        "# Multiple Assignment\n",
        "max_value, min_value, sum_value, mean_value = 0, 0, 0, 0\n",
        "\n",
        "# Maximum\n",
        "max_value = max(numbers)\n",
        "\n",
        "# Minimum\n",
        "min_value = min(numbers)\n",
        "\n",
        "# Sum\n",
        "sum_value = sum(numbers)\n",
        "\n",
        "# Mean\n",
        "mean_value = sum_value / len(numbers)\n",
        "\n",
        "# Output\n",
        "print(\"Maximum:\", max_value)\n",
        "print(\"Minimum:\", min_value)\n",
        "print(\"Sum:\", sum_value)\n",
        "print(\"Mean:\", mean_value)"
      ],
      "metadata": {
        "colab": {
          "base_uri": "https://localhost:8080/"
        },
        "id": "EEwg8MR82_XJ",
        "outputId": "fed83f31-e06c-4cf7-eaa1-b0657355f83a"
      },
      "execution_count": 14,
      "outputs": [
        {
          "output_type": "stream",
          "name": "stdout",
          "text": [
            "Maximum: 22\n",
            "Minimum: 5\n",
            "Sum: 101\n",
            "Mean: 11.222222222222221\n"
          ]
        }
      ]
    }
  ]
}