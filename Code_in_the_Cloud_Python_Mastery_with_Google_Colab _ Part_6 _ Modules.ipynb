{
  "nbformat": 4,
  "nbformat_minor": 0,
  "metadata": {
    "colab": {
      "provenance": [],
      "authorship_tag": "ABX9TyP2PRSfimuuhe8X005Wnh0q",
      "include_colab_link": true
    },
    "kernelspec": {
      "name": "python3",
      "display_name": "Python 3"
    },
    "language_info": {
      "name": "python"
    }
  },
  "cells": [
    {
      "cell_type": "markdown",
      "metadata": {
        "id": "view-in-github",
        "colab_type": "text"
      },
      "source": [
        "<a href=\"https://colab.research.google.com/github/AmirHosseinAlikhahMishamandani/Code-in-the-Cloud-Python-Mastery-with-Google-Colab/blob/main/Code_in_the_Cloud_Python_Mastery_with_Google_Colab%E2%80%8A_%E2%80%8APart_6%E2%80%8A_%E2%80%8AModules.ipynb\" target=\"_parent\"><img src=\"https://colab.research.google.com/assets/colab-badge.svg\" alt=\"Open In Colab\"/></a>"
      ]
    },
    {
      "cell_type": "markdown",
      "source": [
        "# Code in the Cloud: Python Mastery with Google Colab - Part 6 - Modules"
      ],
      "metadata": {
        "id": "JRp-fEAOhdct"
      }
    },
    {
      "cell_type": "markdown",
      "source": [
        "## Custom Modules using Functions"
      ],
      "metadata": {
        "id": "FQfoFXN5hfiC"
      }
    },
    {
      "cell_type": "code",
      "execution_count": 1,
      "metadata": {
        "colab": {
          "base_uri": "https://localhost:8080/"
        },
        "id": "JJl8TCE-hb2r",
        "outputId": "6aa5fc6c-3f97-4743-e1e0-86dcdbbbfcd5"
      },
      "outputs": [
        {
          "output_type": "stream",
          "name": "stdout",
          "text": [
            "Square Area: 25\n",
            "Square Perimeter: 20\n",
            "Rectangle Area: 24\n",
            "Rectangle Perimeter: 20\n",
            "Circle Area: 28.27433385\n",
            "Circle Circumference: 18.849555900000002\n"
          ]
        }
      ],
      "source": [
        "import geometry\n",
        "\n",
        "# Calculate the area and perimeter of a square\n",
        "square_side = 5\n",
        "square_area = geometry.square_area(square_side)\n",
        "square_perimeter = geometry.square_perimeter(square_side)\n",
        "\n",
        "print(\"Square Area:\", square_area)\n",
        "print(\"Square Perimeter:\", square_perimeter)\n",
        "\n",
        "# Calculate the area and perimeter of a rectangle\n",
        "rectangle_length = 6\n",
        "rectangle_width = 4\n",
        "rectangle_area = geometry.rectangle_area(rectangle_length, rectangle_width)\n",
        "rectangle_perimeter = geometry.rectangle_perimeter(rectangle_length, rectangle_width)\n",
        "\n",
        "print(\"Rectangle Area:\", rectangle_area)\n",
        "print(\"Rectangle Perimeter:\", rectangle_perimeter)\n",
        "\n",
        "# Calculate the area and circumference of a circle\n",
        "circle_radius = 3\n",
        "circle_area = geometry.circle_area(circle_radius)\n",
        "circle_circumference = geometry.circle_circumference(circle_radius)\n",
        "\n",
        "print(\"Circle Area:\", circle_area)\n",
        "print(\"Circle Circumference:\", circle_circumference)"
      ]
    },
    {
      "cell_type": "code",
      "source": [
        "import geometry as gm\n",
        "\n",
        "# Calculate the area and perimeter of a square\n",
        "square_side = 5\n",
        "square_area = gm.square_area(square_side)\n",
        "square_perimeter = gm.square_perimeter(square_side)\n",
        "\n",
        "print(\"Square Area:\", square_area)\n",
        "print(\"Square Perimeter:\", square_perimeter)\n",
        "\n",
        "# Calculate the area and perimeter of a rectangle\n",
        "rectangle_length = 6\n",
        "rectangle_width = 4\n",
        "rectangle_area = gm.rectangle_area(rectangle_length, rectangle_width)\n",
        "rectangle_perimeter = gm.rectangle_perimeter(rectangle_length, rectangle_width)\n",
        "\n",
        "print(\"Rectangle Area:\", rectangle_area)\n",
        "print(\"Rectangle Perimeter:\", rectangle_perimeter)\n",
        "\n",
        "# Calculate the area and circumference of a circle\n",
        "circle_radius = 3\n",
        "circle_area = gm.circle_area(circle_radius)\n",
        "circle_circumference = gm.circle_circumference(circle_radius)\n",
        "\n",
        "print(\"Circle Area:\", circle_area)\n",
        "print(\"Circle Circumference:\", circle_circumference)"
      ],
      "metadata": {
        "colab": {
          "base_uri": "https://localhost:8080/"
        },
        "id": "bYetJErztIxC",
        "outputId": "b0c7fde8-eb81-4d01-8d35-5b106ff9585d"
      },
      "execution_count": 2,
      "outputs": [
        {
          "output_type": "stream",
          "name": "stdout",
          "text": [
            "Square Area: 25\n",
            "Square Perimeter: 20\n",
            "Rectangle Area: 24\n",
            "Rectangle Perimeter: 20\n",
            "Circle Area: 28.27433385\n",
            "Circle Circumference: 18.849555900000002\n"
          ]
        }
      ]
    },
    {
      "cell_type": "markdown",
      "source": [
        "## Custom Modules using Classes"
      ],
      "metadata": {
        "id": "_gMkldbb0rxr"
      }
    },
    {
      "cell_type": "code",
      "source": [
        "from bank_account import BankAccount\n",
        "\n",
        "# Create two bank accounts\n",
        "account1 = BankAccount(\"123456\")\n",
        "account2 = BankAccount(\"789012\", 1000)\n",
        "\n",
        "# Perform operations on the accounts\n",
        "account1.deposit(500)\n",
        "account2.withdraw(200)\n",
        "account1.get_balance()\n",
        "account2.get_balance()"
      ],
      "metadata": {
        "colab": {
          "base_uri": "https://localhost:8080/"
        },
        "id": "_Z40OTPf0rgP",
        "outputId": "4abdad26-9901-444c-a6d8-aa27b27ab8ef"
      },
      "execution_count": 3,
      "outputs": [
        {
          "output_type": "stream",
          "name": "stdout",
          "text": [
            "Deposited 500 units. New balance: 500\n",
            "Withdrew 200 units. New balance: 800\n",
            "Account balance: 500\n",
            "Account balance: 800\n"
          ]
        }
      ]
    },
    {
      "cell_type": "markdown",
      "source": [
        "## Import Third-party Module"
      ],
      "metadata": {
        "id": "7Ilakb-m29jN"
      }
    },
    {
      "cell_type": "code",
      "source": [
        "!pip install numpy"
      ],
      "metadata": {
        "colab": {
          "base_uri": "https://localhost:8080/"
        },
        "id": "9LM4B3IY2-dR",
        "outputId": "c06ba765-11da-4590-d568-bd0081b86538"
      },
      "execution_count": 4,
      "outputs": [
        {
          "output_type": "stream",
          "name": "stdout",
          "text": [
            "Requirement already satisfied: numpy in /usr/local/lib/python3.10/dist-packages (1.25.2)\n"
          ]
        }
      ]
    },
    {
      "cell_type": "markdown",
      "source": [
        "## Numpy"
      ],
      "metadata": {
        "id": "_pkIzAks5I8-"
      }
    },
    {
      "cell_type": "code",
      "source": [
        "import numpy as np"
      ],
      "metadata": {
        "id": "tgYqQWHe9a_u"
      },
      "execution_count": 16,
      "outputs": []
    },
    {
      "cell_type": "code",
      "source": [
        "# Basic arithmetic operations\n",
        "a = np.array([1, 2, 3])\n",
        "b = np.array([4, 5, 6])\n",
        "\n",
        "print(\"Addition:\", a + b)\n",
        "print(\"Subtraction:\", a - b)\n",
        "print(\"Multiplication:\", a * b)\n",
        "print(\"Division:\", a / b)"
      ],
      "metadata": {
        "colab": {
          "base_uri": "https://localhost:8080/"
        },
        "id": "KEW6SJM95Jxo",
        "outputId": "2fb5b0db-0ba0-4a5b-cf0e-7ccc113c326e"
      },
      "execution_count": 15,
      "outputs": [
        {
          "output_type": "stream",
          "name": "stdout",
          "text": [
            "Addition: [5 7 9]\n",
            "Subtraction: [-3 -3 -3]\n",
            "Multiplication: [ 4 10 18]\n",
            "Division: [0.25 0.4  0.5 ]\n"
          ]
        }
      ]
    },
    {
      "cell_type": "code",
      "source": [
        "# Creating arrays\n",
        "arr1 = np.array([1, 2, 3])\n",
        "print(\"arr1:\", arr1)\n",
        "\n",
        "arr2 = np.zeros((2, 3))  # 2x3 array of zeros\n",
        "print(\"arr2:\", arr2)\n",
        "\n",
        "arr3 = np.ones((3, 2))    # 3x2 array of ones\n",
        "print(\"arr3:\", arr3)\n",
        "\n",
        "arr4 = np.arange(0, 10, 2)  # Array with values from 0 to 9 with step 2\n",
        "print(\"arr4:\", arr4)\n",
        "\n",
        "arr5 = np.linspace(0, 1, 5)  # Array with 5 evenly spaced values between 0 and 1\n",
        "print(\"arr5:\", arr5)"
      ],
      "metadata": {
        "colab": {
          "base_uri": "https://localhost:8080/"
        },
        "id": "s8xl1bNX5hsR",
        "outputId": "e83377c5-996f-47ce-c16b-d3c4367897d6"
      },
      "execution_count": 7,
      "outputs": [
        {
          "output_type": "stream",
          "name": "stdout",
          "text": [
            "arr1: [1 2 3]\n",
            "arr2: [[0. 0. 0.]\n",
            " [0. 0. 0.]]\n",
            "arr3: [[1. 1.]\n",
            " [1. 1.]\n",
            " [1. 1.]]\n",
            "arr4: [0 2 4 6 8]\n",
            "arr5: [0.   0.25 0.5  0.75 1.  ]\n"
          ]
        }
      ]
    },
    {
      "cell_type": "code",
      "source": [
        "# Array manipulation\n",
        "arr = np.arange(9).reshape(3, 3)  # Reshape 1D array to 3x3\n",
        "print(\"Original array:\")\n",
        "print(arr)\n",
        "\n",
        "# Transpose array\n",
        "arr_transposed = arr.T\n",
        "print(\"\\nTransposed array:\")\n",
        "print(arr_transposed)"
      ],
      "metadata": {
        "colab": {
          "base_uri": "https://localhost:8080/"
        },
        "id": "v8V9pkCm5mQN",
        "outputId": "da2c7291-485f-4cf1-a0b4-2a9dbf28e34d"
      },
      "execution_count": 8,
      "outputs": [
        {
          "output_type": "stream",
          "name": "stdout",
          "text": [
            "Original array:\n",
            "[[0 1 2]\n",
            " [3 4 5]\n",
            " [6 7 8]]\n",
            "\n",
            "Transposed array:\n",
            "[[0 3 6]\n",
            " [1 4 7]\n",
            " [2 5 8]]\n"
          ]
        }
      ]
    },
    {
      "cell_type": "code",
      "source": [
        "# Mathematical functions\n",
        "arr = np.array([1, 2, 3, 4])\n",
        "\n",
        "print(\"Mean:\", np.mean(arr))\n",
        "print(\"Standard Deviation:\", np.std(arr))\n",
        "print(\"Sum:\", np.sum(arr))\n",
        "print(\"Maximum value:\", np.max(arr))"
      ],
      "metadata": {
        "colab": {
          "base_uri": "https://localhost:8080/"
        },
        "id": "0TwzIHNb5sUf",
        "outputId": "ff923862-ea03-414a-ba2f-1394696fb149"
      },
      "execution_count": 9,
      "outputs": [
        {
          "output_type": "stream",
          "name": "stdout",
          "text": [
            "Mean: 2.5\n",
            "Standard Deviation: 1.118033988749895\n",
            "Sum: 10\n",
            "Maximum value: 4\n"
          ]
        }
      ]
    },
    {
      "cell_type": "code",
      "source": [
        "# Indexing and slicing\n",
        "arr = np.array([[1, 2, 3], [4, 5, 6], [7, 8, 9]])\n",
        "\n",
        "print(\"Element at index (1, 2):\", arr[1, 2])\n",
        "print(\"First row:\", arr[0])\n",
        "print(\"First column:\", arr[:, 0])\n",
        "print(\"Slicing a subarray:\")\n",
        "print(arr[:2, 1:])"
      ],
      "metadata": {
        "colab": {
          "base_uri": "https://localhost:8080/"
        },
        "id": "-wxsmu1B5urz",
        "outputId": "92951574-59c9-453e-c178-4f6a1cc06950"
      },
      "execution_count": 10,
      "outputs": [
        {
          "output_type": "stream",
          "name": "stdout",
          "text": [
            "Element at index (1, 2): 6\n",
            "First row: [1 2 3]\n",
            "First column: [1 4 7]\n",
            "Slicing a subarray:\n",
            "[[2 3]\n",
            " [5 6]]\n"
          ]
        }
      ]
    },
    {
      "cell_type": "code",
      "source": [
        "# Broadcasting\n",
        "a = np.array([[1, 2, 3], [4, 5, 6]])\n",
        "b = np.array([10, 20, 30])\n",
        "\n",
        "print(\"Original arrays:\")\n",
        "print(\"a:\", a)\n",
        "print(\"b:\", b)\n",
        "\n",
        "print(\"\\nBroadcasting result:\")\n",
        "print(a + b)"
      ],
      "metadata": {
        "colab": {
          "base_uri": "https://localhost:8080/"
        },
        "id": "4dPcIdT05x8G",
        "outputId": "2ed42adb-8401-4652-942e-1f2e7ecc1e7f"
      },
      "execution_count": 11,
      "outputs": [
        {
          "output_type": "stream",
          "name": "stdout",
          "text": [
            "Original arrays:\n",
            "a: [[1 2 3]\n",
            " [4 5 6]]\n",
            "b: [10 20 30]\n",
            "\n",
            "Broadcasting result:\n",
            "[[11 22 33]\n",
            " [14 25 36]]\n"
          ]
        }
      ]
    },
    {
      "cell_type": "code",
      "source": [
        "# Linear algebra\n",
        "A = np.array([[1, 2], [3, 4]])\n",
        "B = np.array([[5, 6], [7, 8]])\n",
        "\n",
        "# Matrix multiplication\n",
        "C = np.dot(A, B)\n",
        "print(\"Matrix multiplication:\")\n",
        "print(C)"
      ],
      "metadata": {
        "colab": {
          "base_uri": "https://localhost:8080/"
        },
        "id": "1jopqFZb50iC",
        "outputId": "a64fd2e4-9f82-4c78-d76d-e3ed51e539e5"
      },
      "execution_count": 12,
      "outputs": [
        {
          "output_type": "stream",
          "name": "stdout",
          "text": [
            "Matrix multiplication:\n",
            "[[19 22]\n",
            " [43 50]]\n"
          ]
        }
      ]
    },
    {
      "cell_type": "code",
      "source": [
        "# Random sampling\n",
        "random_array = np.random.rand(3, 3)  # Random numbers between 0 and 1\n",
        "print(\"Random array:\")\n",
        "print(random_array)"
      ],
      "metadata": {
        "colab": {
          "base_uri": "https://localhost:8080/"
        },
        "id": "Mvzf5-F3511V",
        "outputId": "cd980115-9446-4ba8-891b-eaf75d5dbf24"
      },
      "execution_count": 13,
      "outputs": [
        {
          "output_type": "stream",
          "name": "stdout",
          "text": [
            "Random array:\n",
            "[[0.82970076 0.9714654  0.9701973 ]\n",
            " [0.70488984 0.60038061 0.64792625]\n",
            " [0.98783886 0.96611163 0.0283544 ]]\n"
          ]
        }
      ]
    }
  ]
}