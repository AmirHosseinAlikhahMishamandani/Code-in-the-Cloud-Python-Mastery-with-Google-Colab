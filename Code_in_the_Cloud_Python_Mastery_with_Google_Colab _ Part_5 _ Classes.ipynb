{
  "nbformat": 4,
  "nbformat_minor": 0,
  "metadata": {
    "colab": {
      "provenance": [],
      "authorship_tag": "ABX9TyMbfXpuv1fzlCRQqTWRpUTK",
      "include_colab_link": true
    },
    "kernelspec": {
      "name": "python3",
      "display_name": "Python 3"
    },
    "language_info": {
      "name": "python"
    }
  },
  "cells": [
    {
      "cell_type": "markdown",
      "metadata": {
        "id": "view-in-github",
        "colab_type": "text"
      },
      "source": [
        "<a href=\"https://colab.research.google.com/github/AmirHosseinAlikhahMishamandani/Code-in-the-Cloud-Python-Mastery-with-Google-Colab/blob/main/Code_in_the_Cloud_Python_Mastery_with_Google_Colab%E2%80%8A_%E2%80%8APart_5%E2%80%8A_%E2%80%8AClasses.ipynb\" target=\"_parent\"><img src=\"https://colab.research.google.com/assets/colab-badge.svg\" alt=\"Open In Colab\"/></a>"
      ]
    },
    {
      "cell_type": "markdown",
      "source": [
        "# Code in the Cloud: Python Mastery with Google Colab - Part 5 - Classes"
      ],
      "metadata": {
        "id": "sv4wRYMCdPhJ"
      }
    },
    {
      "cell_type": "markdown",
      "source": [
        "## Classes"
      ],
      "metadata": {
        "id": "tp0hSOY2_YEI"
      }
    },
    {
      "cell_type": "markdown",
      "source": [
        "### Container"
      ],
      "metadata": {
        "id": "7pCI0SldJaww"
      }
    },
    {
      "cell_type": "code",
      "execution_count": 1,
      "metadata": {
        "id": "cYpL8tFxdL-j"
      },
      "outputs": [],
      "source": [
        "class Container:\n",
        "    def __init__(self, height, width, length, material):\n",
        "        self.height = height\n",
        "        self.width = width\n",
        "        self.length = length\n",
        "        self.material = material\n",
        "        self.is_open = False\n",
        "\n",
        "    def open(self):\n",
        "        self.is_open = True\n",
        "        print(\"Container is now open.\")\n",
        "\n",
        "    def close(self):\n",
        "        self.is_open = False\n",
        "        print(\"Container is now closed.\")"
      ]
    },
    {
      "cell_type": "code",
      "source": [
        "# Create a container for a car\n",
        "car_container = Container(height=2, width=3, length=5, material=\"metal\")\n",
        "\n",
        "# Create a container for a monitor\n",
        "monitor_container = Container(height=1, width=2, length=3, material=\"thick cardboard\")\n",
        "\n",
        "# Create a container for a cup\n",
        "cup_container = Container(height=0.5, width=0.5, length=0.5, material=\"plastic\")"
      ],
      "metadata": {
        "id": "o3tHyZRM_pI1"
      },
      "execution_count": 2,
      "outputs": []
    },
    {
      "cell_type": "code",
      "source": [
        "# Open the container for the car\n",
        "car_container.open()\n",
        "\n",
        "# Put the car inside the container...\n",
        "\n",
        "# Close the container for the car\n",
        "car_container.close()"
      ],
      "metadata": {
        "colab": {
          "base_uri": "https://localhost:8080/"
        },
        "id": "MSinZfpXC6Ax",
        "outputId": "482bb418-1f02-487d-d3b0-5ef51b0a495a"
      },
      "execution_count": 3,
      "outputs": [
        {
          "output_type": "stream",
          "name": "stdout",
          "text": [
            "Container is now open.\n",
            "Container is now closed.\n"
          ]
        }
      ]
    },
    {
      "cell_type": "markdown",
      "source": [
        "### Bank Account"
      ],
      "metadata": {
        "id": "IOMVzPAEJcR3"
      }
    },
    {
      "cell_type": "code",
      "source": [
        "class BankAccount:\n",
        "    def __init__(self, account_holder, account_number, initial_balance=0):\n",
        "        self.account_holder = account_holder\n",
        "        self.account_number = account_number\n",
        "        self.balance = initial_balance\n",
        "        self.is_closed = False\n",
        "\n",
        "    def deposit(self, amount):\n",
        "        if not self.is_closed:\n",
        "            self.balance += amount\n",
        "            print(f\"Deposited {amount} into account {self.account_number}. New balance: {self.balance}\")\n",
        "        else:\n",
        "            print(\"Cannot deposit into a closed account\")\n",
        "\n",
        "    def withdraw(self, amount):\n",
        "        if not self.is_closed:\n",
        "            if amount <= self.balance:\n",
        "                self.balance -= amount\n",
        "                print(f\"Withdrew {amount} from account {self.account_number}. New balance: {self.balance}\")\n",
        "            else:\n",
        "                print(\"Insufficient funds\")\n",
        "        else:\n",
        "            print(\"Cannot withdraw from a closed account\")\n",
        "\n",
        "    def check_balance(self):\n",
        "        print(f\"Account {self.account_number} balance: {self.balance}\")\n",
        "\n",
        "    def close_account(self):\n",
        "        self.is_closed = True\n",
        "        print(f\"Account {self.account_number} is now closed.\")\n",
        "\n",
        "    def __del__(self):\n",
        "        print(f\"Account {self.account_number} is being deleted.\")"
      ],
      "metadata": {
        "id": "wFv8fvrxJdeP"
      },
      "execution_count": 4,
      "outputs": []
    },
    {
      "cell_type": "markdown",
      "source": [
        "#### Opening bank account"
      ],
      "metadata": {
        "id": "_wgwIoHCKcIX"
      }
    },
    {
      "cell_type": "code",
      "source": [
        "account1 = BankAccount(\"Amir\", \"123456\", 1000)\n",
        "account2 = BankAccount(\"Mike\", \"789012\", 500)"
      ],
      "metadata": {
        "id": "OjH008_kJfS3"
      },
      "execution_count": 5,
      "outputs": []
    },
    {
      "cell_type": "markdown",
      "source": [
        "#### Checking account balance"
      ],
      "metadata": {
        "id": "tBn-j2OMKgBz"
      }
    },
    {
      "cell_type": "code",
      "source": [
        "account1.check_balance()\n",
        "account2.check_balance()"
      ],
      "metadata": {
        "colab": {
          "base_uri": "https://localhost:8080/"
        },
        "id": "tOdtXrFjKHXu",
        "outputId": "de3de392-f1a0-4973-80c2-7c8865e8c071"
      },
      "execution_count": 6,
      "outputs": [
        {
          "output_type": "stream",
          "name": "stdout",
          "text": [
            "Account 123456 balance: 1000\n",
            "Account 789012 balance: 500\n"
          ]
        }
      ]
    },
    {
      "cell_type": "markdown",
      "source": [
        "#### Deposit & Withdraw"
      ],
      "metadata": {
        "id": "sXjreJ5sKkGf"
      }
    },
    {
      "cell_type": "code",
      "source": [
        "account1.deposit(500)\n",
        "account2.withdraw(200)\n",
        "\n",
        "account1.check_balance()\n",
        "account2.check_balance()"
      ],
      "metadata": {
        "colab": {
          "base_uri": "https://localhost:8080/"
        },
        "id": "7d99jr9-KQbq",
        "outputId": "e24ae8b0-aba6-4ab7-9b72-1ff3d19e709b"
      },
      "execution_count": 7,
      "outputs": [
        {
          "output_type": "stream",
          "name": "stdout",
          "text": [
            "Deposited 500 into account 123456. New balance: 1500\n",
            "Withdrew 200 from account 789012. New balance: 300\n",
            "Account 123456 balance: 1500\n",
            "Account 789012 balance: 300\n"
          ]
        }
      ]
    },
    {
      "cell_type": "code",
      "source": [
        "account1.close_account()\n",
        "\n",
        "account1.deposit(500)"
      ],
      "metadata": {
        "colab": {
          "base_uri": "https://localhost:8080/"
        },
        "id": "pSFcKhQXKSYH",
        "outputId": "aa05bd59-fdb1-468e-b86b-8fdb148357be"
      },
      "execution_count": 8,
      "outputs": [
        {
          "output_type": "stream",
          "name": "stdout",
          "text": [
            "Account 123456 is now closed.\n",
            "Cannot deposit into a closed account\n"
          ]
        }
      ]
    },
    {
      "cell_type": "code",
      "source": [
        "del account1"
      ],
      "metadata": {
        "colab": {
          "base_uri": "https://localhost:8080/"
        },
        "id": "95f8dFA6KWaL",
        "outputId": "c6e97357-cbe9-4335-ed10-fa25269c041a"
      },
      "execution_count": 9,
      "outputs": [
        {
          "output_type": "stream",
          "name": "stdout",
          "text": [
            "Account 123456 is being deleted.\n"
          ]
        }
      ]
    },
    {
      "cell_type": "code",
      "source": [
        "account1.withdraw(200)"
      ],
      "metadata": {
        "colab": {
          "base_uri": "https://localhost:8080/",
          "height": 135
        },
        "id": "oiEzJGRrLjHz",
        "outputId": "68c6d81c-3ad9-4fe7-ad21-c67fc88a4062"
      },
      "execution_count": 10,
      "outputs": [
        {
          "output_type": "error",
          "ename": "NameError",
          "evalue": "name 'account1' is not defined",
          "traceback": [
            "\u001b[0;31m---------------------------------------------------------------------------\u001b[0m",
            "\u001b[0;31mNameError\u001b[0m                                 Traceback (most recent call last)",
            "\u001b[0;32m<ipython-input-10-916cff709e5f>\u001b[0m in \u001b[0;36m<cell line: 1>\u001b[0;34m()\u001b[0m\n\u001b[0;32m----> 1\u001b[0;31m \u001b[0maccount1\u001b[0m\u001b[0;34m.\u001b[0m\u001b[0mwithdraw\u001b[0m\u001b[0;34m(\u001b[0m\u001b[0;36m200\u001b[0m\u001b[0;34m)\u001b[0m\u001b[0;34m\u001b[0m\u001b[0;34m\u001b[0m\u001b[0m\n\u001b[0m",
            "\u001b[0;31mNameError\u001b[0m: name 'account1' is not defined"
          ]
        }
      ]
    },
    {
      "cell_type": "markdown",
      "source": [
        "## Class Inheritance"
      ],
      "metadata": {
        "id": "I1cZGcX5PImd"
      }
    },
    {
      "cell_type": "code",
      "source": [
        "class Ability:\n",
        "    def speak(self):\n",
        "        pass\n",
        "\n",
        "    def move(self):\n",
        "        pass\n",
        "\n",
        "class Human(Ability):\n",
        "    def speak(self):\n",
        "        return \"Hello!\"\n",
        "\n",
        "    def move(self):\n",
        "        return \"Walk\"\n",
        "\n",
        "class Bird(Ability):\n",
        "    def speak(self):\n",
        "        return \"Chirp\"\n",
        "\n",
        "    def move(self):\n",
        "        return \"Fly\"\n",
        "\n",
        "class Snake(Ability):\n",
        "    def speak(self):\n",
        "        return \"Hiss\"\n",
        "\n",
        "    def move(self):\n",
        "        return \"Slither\"\n",
        "\n",
        "class Dog(Ability):\n",
        "    def speak(self):\n",
        "        return \"Woof!\"\n",
        "\n",
        "    def move(self):\n",
        "        return \"Run\""
      ],
      "metadata": {
        "id": "k5ECZ0iHLuQS"
      },
      "execution_count": 11,
      "outputs": []
    },
    {
      "cell_type": "code",
      "source": [
        "human = Human()\n",
        "bird = Bird()\n",
        "snake = Snake()\n",
        "dog = Dog()\n",
        "\n",
        "print(\"Human says:\", human.speak(), \"and can\", human.move())\n",
        "print(\"Bird says:\", bird.speak(), \"and can\", bird.move())\n",
        "print(\"Snake says:\", snake.speak(), \"and can\", snake.move())\n",
        "print(\"Dog says:\", dog.speak(), \"and can\", dog.move())"
      ],
      "metadata": {
        "colab": {
          "base_uri": "https://localhost:8080/"
        },
        "id": "wVAksnB_QoZb",
        "outputId": "cc5e4739-17cb-41e4-b583-79eee8833a42"
      },
      "execution_count": 12,
      "outputs": [
        {
          "output_type": "stream",
          "name": "stdout",
          "text": [
            "Human says: Hello! and can Walk\n",
            "Bird says: Chirp and can Fly\n",
            "Snake says: Hiss and can Slither\n",
            "Dog says: Woof! and can Run\n"
          ]
        }
      ]
    },
    {
      "cell_type": "markdown",
      "source": [
        "#### Game\n"
      ],
      "metadata": {
        "id": "sc9BZ_lGRGuk"
      }
    },
    {
      "cell_type": "code",
      "source": [
        "class Character:\n",
        "    def __init__(self, name, health):\n",
        "        self.name = name\n",
        "        self.health = health\n",
        "\n",
        "    def attack(self):\n",
        "        print(f\"{self.name} attacks!\")\n",
        "\n",
        "    def take_damage(self, damage):\n",
        "        self.health -= damage\n",
        "        print(f\"{self.name} takes {damage} damage. Health: {self.health}\")\n",
        "\n",
        "\n",
        "class Warrior(Character):\n",
        "    def __init__(self, name, health, strength):\n",
        "        super().__init__(name, health)\n",
        "        self.strength = strength\n",
        "\n",
        "    def charge(self):\n",
        "        print(f\"{self.name} charges into battle with strength {self.strength}\")\n",
        "\n",
        "\n",
        "class Wizard(Character):\n",
        "    def __init__(self, name, health, magic_power):\n",
        "        super().__init__(name, health)\n",
        "        self.magic_power = magic_power\n",
        "\n",
        "    def cast_spell(self):\n",
        "        print(f\"{self.name} casts a spell with magic power {self.magic_power}\")"
      ],
      "metadata": {
        "id": "FoxgO445RITK"
      },
      "execution_count": 13,
      "outputs": []
    },
    {
      "cell_type": "code",
      "source": [
        "warrior = Warrior(\"Conan\", 100, 20)\n",
        "wizard = Wizard(\"Gandalf\", 80, 30)\n",
        "\n",
        "warrior.attack()\n",
        "warrior.take_damage(10)\n",
        "warrior.charge()\n",
        "\n",
        "wizard.attack()\n",
        "wizard.take_damage(15)\n",
        "wizard.cast_spell()"
      ],
      "metadata": {
        "colab": {
          "base_uri": "https://localhost:8080/"
        },
        "id": "FUdSmMd-mEyC",
        "outputId": "86343b0a-a771-4a13-9215-54db6d27e1de"
      },
      "execution_count": 14,
      "outputs": [
        {
          "output_type": "stream",
          "name": "stdout",
          "text": [
            "Conan attacks!\n",
            "Conan takes 10 damage. Health: 90\n",
            "Conan charges into battle with strength 20\n",
            "Gandalf attacks!\n",
            "Gandalf takes 15 damage. Health: 65\n",
            "Gandalf casts a spell with magic power 30\n"
          ]
        }
      ]
    },
    {
      "cell_type": "markdown",
      "source": [
        "### Method Resolution Order (MRO)"
      ],
      "metadata": {
        "id": "1XX7nUokmMUV"
      }
    },
    {
      "cell_type": "code",
      "source": [
        "class A:\n",
        "    def foo(self):\n",
        "        print(\"A foo\")\n",
        "\n",
        "class B(A):\n",
        "    def foo(self):\n",
        "        print(\"B foo\")\n",
        "\n",
        "class C(A):\n",
        "    def foo(self):\n",
        "        print(\"C foo\")\n",
        "\n",
        "class D(B, C):\n",
        "    pass"
      ],
      "metadata": {
        "id": "mnenRhFNmNSV"
      },
      "execution_count": 15,
      "outputs": []
    },
    {
      "cell_type": "code",
      "source": [
        "d_instance = D()\n",
        "d_instance.foo()"
      ],
      "metadata": {
        "colab": {
          "base_uri": "https://localhost:8080/"
        },
        "id": "nUfRSgF-p263",
        "outputId": "25e94766-fd3e-4ecb-9ff5-a84330e09771"
      },
      "execution_count": 16,
      "outputs": [
        {
          "output_type": "stream",
          "name": "stdout",
          "text": [
            "B foo\n"
          ]
        }
      ]
    },
    {
      "cell_type": "markdown",
      "source": [
        "### Decorators in Classes\n",
        "\n"
      ],
      "metadata": {
        "id": "4ZgbMGevw1SP"
      }
    },
    {
      "cell_type": "markdown",
      "source": [
        "#### @property"
      ],
      "metadata": {
        "id": "ZArLHKPBzUro"
      }
    },
    {
      "cell_type": "code",
      "source": [
        "class Circle:\n",
        "    def __init__(self, radius):\n",
        "        self.radius = radius\n",
        "\n",
        "    @property\n",
        "    def diameter(self):\n",
        "        return 2 * self.radius\n",
        "\n",
        "circle = Circle(5)\n",
        "print(circle.diameter)"
      ],
      "metadata": {
        "colab": {
          "base_uri": "https://localhost:8080/"
        },
        "id": "HSXl2ACFw5dg",
        "outputId": "1480a268-c439-4176-9cd7-6194d9938134"
      },
      "execution_count": 17,
      "outputs": [
        {
          "output_type": "stream",
          "name": "stdout",
          "text": [
            "10\n"
          ]
        }
      ]
    },
    {
      "cell_type": "markdown",
      "source": [
        "@staticmethod"
      ],
      "metadata": {
        "id": "QIlDDnDgzpPy"
      }
    },
    {
      "cell_type": "code",
      "source": [
        "class MathUtils:\n",
        "    @staticmethod\n",
        "    def add(x, y):\n",
        "        return x + y\n",
        "\n",
        "print(MathUtils.add(3, 5))"
      ],
      "metadata": {
        "colab": {
          "base_uri": "https://localhost:8080/"
        },
        "id": "uGLPKigkzqdi",
        "outputId": "5342fb3a-9312-434a-950f-b0de055c9d76"
      },
      "execution_count": 18,
      "outputs": [
        {
          "output_type": "stream",
          "name": "stdout",
          "text": [
            "8\n"
          ]
        }
      ]
    },
    {
      "cell_type": "markdown",
      "source": [
        "#### @classmethod"
      ],
      "metadata": {
        "id": "5I2CIfkDz_dM"
      }
    },
    {
      "cell_type": "code",
      "source": [
        "class Circle:\n",
        "    PI = 3.14\n",
        "\n",
        "    def __init__(self, radius):\n",
        "        self.radius = radius\n",
        "\n",
        "    @classmethod\n",
        "    def from_diameter(cls, diameter):\n",
        "        return cls(diameter / 2)\n",
        "\n",
        "circle = Circle.from_diameter(10)\n",
        "print(circle.radius)"
      ],
      "metadata": {
        "colab": {
          "base_uri": "https://localhost:8080/"
        },
        "id": "SU3hp7Hm0AOo",
        "outputId": "6a4fb1d6-c839-4b00-ffdf-10adc1f7d08b"
      },
      "execution_count": 19,
      "outputs": [
        {
          "output_type": "stream",
          "name": "stdout",
          "text": [
            "5.0\n"
          ]
        }
      ]
    },
    {
      "cell_type": "markdown",
      "source": [
        "#### custom decorator"
      ],
      "metadata": {
        "id": "PoyeYwyj0alW"
      }
    },
    {
      "cell_type": "code",
      "source": [
        "def debug(func):\n",
        "    def wrapper(*args, **kwargs):\n",
        "        print(f\"Calling {func.__name__} with args: {args}, kwargs: {kwargs}\")\n",
        "        return func(*args, **kwargs)\n",
        "    return wrapper\n",
        "\n",
        "class MyClass:\n",
        "    @debug\n",
        "    def my_method(self, x, y):\n",
        "        return x + y\n",
        "\n",
        "obj = MyClass()\n",
        "result = obj.my_method(3, 5)\n",
        "print(result)"
      ],
      "metadata": {
        "colab": {
          "base_uri": "https://localhost:8080/"
        },
        "id": "YBwZbgg60dNr",
        "outputId": "84c0b971-a8b7-466c-c622-ebfc0c53c705"
      },
      "execution_count": 20,
      "outputs": [
        {
          "output_type": "stream",
          "name": "stdout",
          "text": [
            "Calling my_method with args: (<__main__.MyClass object at 0x7ed1bbb83250>, 3, 5), kwargs: {}\n",
            "8\n"
          ]
        }
      ]
    },
    {
      "cell_type": "markdown",
      "source": [
        "## Project: TicTacToe Game"
      ],
      "metadata": {
        "id": "HwRYDrVl4RwM"
      }
    },
    {
      "cell_type": "code",
      "source": [
        "class TicTacToe:\n",
        "    def __init__(self):\n",
        "        self.board = [[' ' for _ in range(3)] for _ in range(3)]\n",
        "        self.current_player = 'X'\n",
        "\n",
        "    def print_board(self):\n",
        "        for i, row in enumerate(self.board):\n",
        "            print('|'.join([str(i * 3 + j + 1) if cell == ' ' else cell for j, cell in enumerate(row)]))\n",
        "            print('-' * 5)\n",
        "        print('\\n')\n",
        "\n",
        "    def check_winner(self, player):\n",
        "        # Check rows\n",
        "        for row in self.board:\n",
        "            if all(cell == player for cell in row):\n",
        "                return True\n",
        "\n",
        "        # Check columns\n",
        "        for col in range(3):\n",
        "            if all(self.board[row][col] == player for row in range(3)):\n",
        "                return True\n",
        "\n",
        "        # Check diagonals\n",
        "        if all(self.board[i][i] == player for i in range(3)) or \\\n",
        "           all(self.board[i][2 - i] == player for i in range(3)):\n",
        "            return True\n",
        "\n",
        "        return False\n",
        "\n",
        "    def is_board_full(self):\n",
        "        for row in self.board:\n",
        "            for cell in row:\n",
        "                if cell == ' ':\n",
        "                    return False\n",
        "        return True\n",
        "\n",
        "    def play(self):\n",
        "        print(\"Welcome to Tic Tac Toe!\")\n",
        "        print(\"Here's the board with positions (1-9):\\n\")\n",
        "        initial_board = [['1', '2', '3'], ['4', '5', '6'], ['7', '8', '9']]\n",
        "        for row in initial_board:\n",
        "            print('|'.join(row))\n",
        "            print('-' * 5)\n",
        "\n",
        "        print(\"\\nLet's start the game!\\n\")\n",
        "\n",
        "        while True:\n",
        "            self.print_board()\n",
        "            position = int(input(f\"Player {self.current_player}, enter position (1-9): \")) - 1\n",
        "            print(\"\\n\")\n",
        "\n",
        "            row = position // 3\n",
        "            col = position % 3\n",
        "\n",
        "            if self.board[row][col] == ' ':\n",
        "                self.board[row][col] = self.current_player\n",
        "\n",
        "                if self.check_winner(self.current_player):\n",
        "                    print(f\"\\nPlayer {self.current_player} wins!\")\n",
        "                    self.print_board()\n",
        "                    break\n",
        "                elif self.is_board_full():\n",
        "                    print(\"\\nIt's a tie!\")\n",
        "                    self.print_board()\n",
        "                    break\n",
        "\n",
        "                self.current_player = 'O' if self.current_player == 'X' else 'X'\n",
        "            else:\n",
        "                print(\"That position is already taken. Try again.\\n\")"
      ],
      "metadata": {
        "id": "u-QDnC004SRm"
      },
      "execution_count": 21,
      "outputs": []
    },
    {
      "cell_type": "code",
      "source": [
        "game = TicTacToe()\n",
        "game.play()"
      ],
      "metadata": {
        "id": "NtqyExdW5q8M",
        "colab": {
          "base_uri": "https://localhost:8080/"
        },
        "outputId": "fd8318b8-ebe7-4ac2-80da-208c267ade6d"
      },
      "execution_count": 22,
      "outputs": [
        {
          "output_type": "stream",
          "name": "stdout",
          "text": [
            "Welcome to Tic Tac Toe!\n",
            "Here's the board with positions (1-9):\n",
            "\n",
            "1|2|3\n",
            "-----\n",
            "4|5|6\n",
            "-----\n",
            "7|8|9\n",
            "-----\n",
            "\n",
            "Let's start the game!\n",
            "\n",
            "1|2|3\n",
            "-----\n",
            "4|5|6\n",
            "-----\n",
            "7|8|9\n",
            "-----\n",
            "\n",
            "\n",
            "Player X, enter position (1-9): 5\n",
            "\n",
            "\n",
            "1|2|3\n",
            "-----\n",
            "4|X|6\n",
            "-----\n",
            "7|8|9\n",
            "-----\n",
            "\n",
            "\n",
            "Player O, enter position (1-9): 1\n",
            "\n",
            "\n",
            "O|2|3\n",
            "-----\n",
            "4|X|6\n",
            "-----\n",
            "7|8|9\n",
            "-----\n",
            "\n",
            "\n",
            "Player X, enter position (1-9): 2\n",
            "\n",
            "\n",
            "O|X|3\n",
            "-----\n",
            "4|X|6\n",
            "-----\n",
            "7|8|9\n",
            "-----\n",
            "\n",
            "\n",
            "Player O, enter position (1-9): 8\n",
            "\n",
            "\n",
            "O|X|3\n",
            "-----\n",
            "4|X|6\n",
            "-----\n",
            "7|O|9\n",
            "-----\n",
            "\n",
            "\n",
            "Player X, enter position (1-9): 3\n",
            "\n",
            "\n",
            "O|X|X\n",
            "-----\n",
            "4|X|6\n",
            "-----\n",
            "7|O|9\n",
            "-----\n",
            "\n",
            "\n",
            "Player O, enter position (1-9): 7\n",
            "\n",
            "\n",
            "O|X|X\n",
            "-----\n",
            "4|X|6\n",
            "-----\n",
            "O|O|9\n",
            "-----\n",
            "\n",
            "\n",
            "Player X, enter position (1-9): 4\n",
            "\n",
            "\n",
            "O|X|X\n",
            "-----\n",
            "X|X|6\n",
            "-----\n",
            "O|O|9\n",
            "-----\n",
            "\n",
            "\n",
            "Player O, enter position (1-9): 6\n",
            "\n",
            "\n",
            "O|X|X\n",
            "-----\n",
            "X|X|O\n",
            "-----\n",
            "O|O|9\n",
            "-----\n",
            "\n",
            "\n",
            "Player X, enter position (1-9): 8\n",
            "\n",
            "\n",
            "That position is already taken. Try again.\n",
            "\n",
            "O|X|X\n",
            "-----\n",
            "X|X|O\n",
            "-----\n",
            "O|O|9\n",
            "-----\n",
            "\n",
            "\n",
            "Player X, enter position (1-9): 9\n",
            "\n",
            "\n",
            "\n",
            "It's a tie!\n",
            "O|X|X\n",
            "-----\n",
            "X|X|O\n",
            "-----\n",
            "O|O|X\n",
            "-----\n",
            "\n",
            "\n"
          ]
        }
      ]
    }
  ]
}