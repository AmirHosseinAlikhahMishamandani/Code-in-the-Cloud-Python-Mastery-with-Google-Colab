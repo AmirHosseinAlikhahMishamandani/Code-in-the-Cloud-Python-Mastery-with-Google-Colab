{
  "nbformat": 4,
  "nbformat_minor": 0,
  "metadata": {
    "colab": {
      "provenance": [],
      "authorship_tag": "ABX9TyOZL4JQ/ECF0fG2Cc/acHrw",
      "include_colab_link": true
    },
    "kernelspec": {
      "name": "python3",
      "display_name": "Python 3"
    },
    "language_info": {
      "name": "python"
    }
  },
  "cells": [
    {
      "cell_type": "markdown",
      "metadata": {
        "id": "view-in-github",
        "colab_type": "text"
      },
      "source": [
        "<a href=\"https://colab.research.google.com/github/AmirHosseinAlikhahMishamandani/Code-in-the-Cloud-Python-Mastery-with-Google-Colab/blob/main/Code_in_the_Cloud_Python_Mastery_with_Google_Colab%E2%80%8A_%E2%80%8APart_4%E2%80%8A_%E2%80%8AFunctions.ipynb\" target=\"_parent\"><img src=\"https://colab.research.google.com/assets/colab-badge.svg\" alt=\"Open In Colab\"/></a>"
      ]
    },
    {
      "cell_type": "markdown",
      "source": [
        "# Code in the Cloud: Python Mastery with Google Colab - Part 4 - Functions"
      ],
      "metadata": {
        "id": "gRlirssTgjBY"
      }
    },
    {
      "cell_type": "markdown",
      "source": [
        "## Function Definition"
      ],
      "metadata": {
        "id": "NnKv2_6WpTE_"
      }
    },
    {
      "cell_type": "code",
      "execution_count": 2,
      "metadata": {
        "id": "XgyK_qnygeGq"
      },
      "outputs": [],
      "source": [
        "def juicer(fruit):\n",
        "    print(f\"Here is your {fruit} juice!\")"
      ]
    },
    {
      "cell_type": "markdown",
      "source": [
        "## Calling a Function"
      ],
      "metadata": {
        "id": "QsgMwkOPqt9T"
      }
    },
    {
      "cell_type": "code",
      "source": [
        "juicer('Apple')"
      ],
      "metadata": {
        "colab": {
          "base_uri": "https://localhost:8080/"
        },
        "id": "9ZmBGnOTqmEV",
        "outputId": "c23cc7ea-97a7-4b15-d413-2707a38988f1"
      },
      "execution_count": 4,
      "outputs": [
        {
          "output_type": "stream",
          "name": "stdout",
          "text": [
            "Here is your Apple juice!\n"
          ]
        }
      ]
    },
    {
      "cell_type": "code",
      "source": [
        "juicer('Lemon')"
      ],
      "metadata": {
        "colab": {
          "base_uri": "https://localhost:8080/"
        },
        "id": "TjVq1aXZqy71",
        "outputId": "0bf6dfa1-449c-47e0-9ae6-5ce9b780e889"
      },
      "execution_count": 5,
      "outputs": [
        {
          "output_type": "stream",
          "name": "stdout",
          "text": [
            "Here is your Lemon juice!\n"
          ]
        }
      ]
    },
    {
      "cell_type": "code",
      "source": [
        "juicer('Banana')"
      ],
      "metadata": {
        "colab": {
          "base_uri": "https://localhost:8080/"
        },
        "id": "LiuNsag5sryF",
        "outputId": "ebe4d079-47c0-4d29-e2e0-2a51d75bd5bd"
      },
      "execution_count": 6,
      "outputs": [
        {
          "output_type": "stream",
          "name": "stdout",
          "text": [
            "Here is your Banana juice!\n"
          ]
        }
      ]
    },
    {
      "cell_type": "code",
      "source": [
        "def juicer(fruit):\n",
        "    nonJuicableFruits = [\"Banana\", \"Avocado\", \"Coconut\", \"Lychee\", \"Durian\", \"Plantain\", \"Jackfruit\", \"Dates\", \"Fig\", \"Olive\"]\n",
        "    if fruit not in nonJuicableFruits:\n",
        "        print(f\"Here is your {fruit} juice!\")\n",
        "    else:\n",
        "        print(f\"Oops, here is your {fruit}! This fruit isn't juicable. Please choose another.\")"
      ],
      "metadata": {
        "id": "vAC0bZDztq7v"
      },
      "execution_count": 12,
      "outputs": []
    },
    {
      "cell_type": "code",
      "source": [
        "juicer('Banana')"
      ],
      "metadata": {
        "colab": {
          "base_uri": "https://localhost:8080/"
        },
        "id": "xEuzK6KAuXVk",
        "outputId": "a27a2655-f345-4c4a-d765-1910e78a3646"
      },
      "execution_count": 13,
      "outputs": [
        {
          "output_type": "stream",
          "name": "stdout",
          "text": [
            "Oops, here is your Banana! This fruit isn't juicable. Please choose another.\n"
          ]
        }
      ]
    },
    {
      "cell_type": "code",
      "source": [
        "juicer('Apple')"
      ],
      "metadata": {
        "colab": {
          "base_uri": "https://localhost:8080/"
        },
        "id": "ANwSQjMjussP",
        "outputId": "27918087-f2ed-4d2f-8b16-ca55323c10e6"
      },
      "execution_count": 14,
      "outputs": [
        {
          "output_type": "stream",
          "name": "stdout",
          "text": [
            "Here is your Apple juice!\n"
          ]
        }
      ]
    },
    {
      "cell_type": "code",
      "source": [
        "def salt_shaker():\n",
        "    print('salt')"
      ],
      "metadata": {
        "id": "QCzfRhFSvVZw"
      },
      "execution_count": 15,
      "outputs": []
    },
    {
      "cell_type": "code",
      "source": [
        "salt_shaker()"
      ],
      "metadata": {
        "colab": {
          "base_uri": "https://localhost:8080/"
        },
        "id": "WeWX_Dxgv4Oo",
        "outputId": "72d56133-c9b8-427b-cc6e-0a9b00ec98c2"
      },
      "execution_count": 16,
      "outputs": [
        {
          "output_type": "stream",
          "name": "stdout",
          "text": [
            "salt\n"
          ]
        }
      ]
    },
    {
      "cell_type": "markdown",
      "source": [
        "## Return Statement"
      ],
      "metadata": {
        "id": "153fTmDMxMSi"
      }
    },
    {
      "cell_type": "code",
      "source": [
        "def juicer(fruit):\n",
        "    nonJuicableFruits = [\"Banana\", \"Avocado\", \"Coconut\", \"Lychee\", \"Durian\", \"Plantain\", \"Jackfruit\", \"Dates\", \"Fig\", \"Olive\"]\n",
        "    if fruit not in nonJuicableFruits:\n",
        "        return f\"{fruit} juice\"\n",
        "    else:\n",
        "        return f\"Oops, here is your {fruit}! This fruit isn't juicable. Please choose another.\""
      ],
      "metadata": {
        "id": "rz35yCX7xMyT"
      },
      "execution_count": 28,
      "outputs": []
    },
    {
      "cell_type": "code",
      "source": [
        "fruit = 'Apple'\n",
        "jug = juicer(fruit)\n",
        "\n",
        "print(f\"Here is your jug of {jug}!\")"
      ],
      "metadata": {
        "colab": {
          "base_uri": "https://localhost:8080/"
        },
        "id": "fCb5yelx0PB6",
        "outputId": "20cb42d8-80b5-4768-96a9-d9f4efa8a501"
      },
      "execution_count": 29,
      "outputs": [
        {
          "output_type": "stream",
          "name": "stdout",
          "text": [
            "Here is your jug of Apple juice!\n"
          ]
        }
      ]
    },
    {
      "cell_type": "code",
      "source": [
        "fruit = 'Banana'\n",
        "jug = juicer(fruit)\n",
        "\n",
        "print(jug)"
      ],
      "metadata": {
        "colab": {
          "base_uri": "https://localhost:8080/"
        },
        "id": "gF-iNivA012x",
        "outputId": "db6392e9-176f-4394-97ba-6642bada2110"
      },
      "execution_count": 30,
      "outputs": [
        {
          "output_type": "stream",
          "name": "stdout",
          "text": [
            "Oops, here is your Banana! This fruit isn't juicable. Please choose another.\n"
          ]
        }
      ]
    },
    {
      "cell_type": "markdown",
      "source": [
        "## Function Arguments"
      ],
      "metadata": {
        "id": "S2buSsVC1oIq"
      }
    },
    {
      "cell_type": "code",
      "source": [
        "def popcorn_pot(oil, corn, salt):\n",
        "    box = f\"Made with {oil} ml of oil, {corn} gr of corn, and {salt} gr of salt\"\n",
        "    return box"
      ],
      "metadata": {
        "id": "4trFY01a1o2I"
      },
      "execution_count": 33,
      "outputs": []
    },
    {
      "cell_type": "code",
      "source": [
        "container_1 = '50'\n",
        "container_2 = '300'\n",
        "container_3 = '5'\n",
        "\n",
        "box_lable = popcorn_pot(container_1, container_2, container_3)\n",
        "\n",
        "print(box_lable)"
      ],
      "metadata": {
        "colab": {
          "base_uri": "https://localhost:8080/"
        },
        "id": "OHjjWILD5U7j",
        "outputId": "04221442-6011-4768-fb86-9d9fe95d8107"
      },
      "execution_count": 35,
      "outputs": [
        {
          "output_type": "stream",
          "name": "stdout",
          "text": [
            "Made with 50 ml of oil, 300 gr of corn, and 5 gr of salt\n"
          ]
        }
      ]
    },
    {
      "cell_type": "code",
      "source": [
        "container_1 = '50'\n",
        "container_2 = '300'\n",
        "container_3 = '5'\n",
        "\n",
        "box_lable = popcorn_pot(container_1, container_3, container_2)\n",
        "\n",
        "print(box_lable)"
      ],
      "metadata": {
        "colab": {
          "base_uri": "https://localhost:8080/"
        },
        "id": "968HAWlw6kg_",
        "outputId": "c5e1a18a-eaed-49c5-d927-f21061074068"
      },
      "execution_count": 36,
      "outputs": [
        {
          "output_type": "stream",
          "name": "stdout",
          "text": [
            "Made with 50 ml of oil, 5 gr of corn, and 300 gr of salt\n"
          ]
        }
      ]
    },
    {
      "cell_type": "code",
      "source": [
        "container_1 = '500'\n",
        "container_2 = '30'\n",
        "container_3 = '5'\n",
        "\n",
        "box_lable = popcorn_pot(container_1, container_2, container_3)\n",
        "\n",
        "print(box_lable)"
      ],
      "metadata": {
        "colab": {
          "base_uri": "https://localhost:8080/"
        },
        "id": "g2p8IsU46n7s",
        "outputId": "ae4fe571-9859-4683-efbf-d3459402e3c1"
      },
      "execution_count": 37,
      "outputs": [
        {
          "output_type": "stream",
          "name": "stdout",
          "text": [
            "Made with 500 ml of oil, 30 gr of corn, and 5 gr of salt\n"
          ]
        }
      ]
    },
    {
      "cell_type": "markdown",
      "source": [
        "## Default Arguments"
      ],
      "metadata": {
        "id": "Rpza3vS07fma"
      }
    },
    {
      "cell_type": "code",
      "source": [
        "def square(x):\n",
        "  return x**x"
      ],
      "metadata": {
        "id": "yu8D_Wkt7g6N"
      },
      "execution_count": 45,
      "outputs": []
    },
    {
      "cell_type": "code",
      "source": [
        "square()"
      ],
      "metadata": {
        "colab": {
          "base_uri": "https://localhost:8080/",
          "height": 135
        },
        "id": "9QRVALJh7rLQ",
        "outputId": "c4ae1f6c-65e0-47a3-a7fd-19d9b2cce8c5"
      },
      "execution_count": 46,
      "outputs": [
        {
          "output_type": "error",
          "ename": "TypeError",
          "evalue": "square() missing 1 required positional argument: 'x'",
          "traceback": [
            "\u001b[0;31m---------------------------------------------------------------------------\u001b[0m",
            "\u001b[0;31mTypeError\u001b[0m                                 Traceback (most recent call last)",
            "\u001b[0;32m<ipython-input-46-67e8141f4182>\u001b[0m in \u001b[0;36m<cell line: 1>\u001b[0;34m()\u001b[0m\n\u001b[0;32m----> 1\u001b[0;31m \u001b[0msquare\u001b[0m\u001b[0;34m(\u001b[0m\u001b[0;34m)\u001b[0m\u001b[0;34m\u001b[0m\u001b[0;34m\u001b[0m\u001b[0m\n\u001b[0m",
            "\u001b[0;31mTypeError\u001b[0m: square() missing 1 required positional argument: 'x'"
          ]
        }
      ]
    },
    {
      "cell_type": "code",
      "source": [
        "def square(x=0):\n",
        "  return x**x"
      ],
      "metadata": {
        "id": "68k_d9y17uA0"
      },
      "execution_count": 48,
      "outputs": []
    },
    {
      "cell_type": "code",
      "source": [
        "square()"
      ],
      "metadata": {
        "colab": {
          "base_uri": "https://localhost:8080/"
        },
        "id": "zWoYsgP277Va",
        "outputId": "7d5720d0-4811-459c-8a5c-958d8094ad3a"
      },
      "execution_count": 49,
      "outputs": [
        {
          "output_type": "execute_result",
          "data": {
            "text/plain": [
              "1"
            ]
          },
          "metadata": {},
          "execution_count": 49
        }
      ]
    },
    {
      "cell_type": "markdown",
      "source": [
        "## Lambda Functions (Anonymous Functions)"
      ],
      "metadata": {
        "id": "vH-3vPhG8u94"
      }
    },
    {
      "cell_type": "code",
      "source": [
        "double = lambda x: x * 2"
      ],
      "metadata": {
        "id": "78Zs8Huc8w3R"
      },
      "execution_count": 50,
      "outputs": []
    },
    {
      "cell_type": "code",
      "source": [
        "print(double(5))"
      ],
      "metadata": {
        "colab": {
          "base_uri": "https://localhost:8080/"
        },
        "id": "D5YygYUX84qu",
        "outputId": "3634b166-2f6f-4972-bb8b-e840d35540c0"
      },
      "execution_count": 51,
      "outputs": [
        {
          "output_type": "stream",
          "name": "stdout",
          "text": [
            "10\n"
          ]
        }
      ]
    },
    {
      "cell_type": "markdown",
      "source": [
        "## Scope of Variables"
      ],
      "metadata": {
        "id": "5BTjFlHx9Vq6"
      }
    },
    {
      "cell_type": "code",
      "source": [
        "x = 10  # global variable\n",
        "\n",
        "def func():\n",
        "    y = 20  # local variable\n",
        "    print(x + 1)  # Accessing global variable\n",
        "    print(y + 1)\n",
        "\n",
        "func()\n",
        "print(x + 1)  # Output: 10\n",
        "print(y + 1)  # This will raise NameError: name 'y' is not defined"
      ],
      "metadata": {
        "colab": {
          "base_uri": "https://localhost:8080/",
          "height": 217
        },
        "id": "cGFLY7-f9XGo",
        "outputId": "edc97d9a-f561-49e8-e11d-c25d5042e350"
      },
      "execution_count": 52,
      "outputs": [
        {
          "output_type": "stream",
          "name": "stdout",
          "text": [
            "11\n",
            "21\n",
            "11\n"
          ]
        },
        {
          "output_type": "error",
          "ename": "NameError",
          "evalue": "name 'y' is not defined",
          "traceback": [
            "\u001b[0;31m---------------------------------------------------------------------------\u001b[0m",
            "\u001b[0;31mNameError\u001b[0m                                 Traceback (most recent call last)",
            "\u001b[0;32m<ipython-input-52-4ccb2cdff035>\u001b[0m in \u001b[0;36m<cell line: 10>\u001b[0;34m()\u001b[0m\n\u001b[1;32m      8\u001b[0m \u001b[0mfunc\u001b[0m\u001b[0;34m(\u001b[0m\u001b[0;34m)\u001b[0m\u001b[0;34m\u001b[0m\u001b[0;34m\u001b[0m\u001b[0m\n\u001b[1;32m      9\u001b[0m \u001b[0mprint\u001b[0m\u001b[0;34m(\u001b[0m\u001b[0mx\u001b[0m \u001b[0;34m+\u001b[0m \u001b[0;36m1\u001b[0m\u001b[0;34m)\u001b[0m  \u001b[0;31m# Output: 10\u001b[0m\u001b[0;34m\u001b[0m\u001b[0;34m\u001b[0m\u001b[0m\n\u001b[0;32m---> 10\u001b[0;31m \u001b[0mprint\u001b[0m\u001b[0;34m(\u001b[0m\u001b[0my\u001b[0m \u001b[0;34m+\u001b[0m \u001b[0;36m1\u001b[0m\u001b[0;34m)\u001b[0m  \u001b[0;31m# This will raise NameError: name 'y' is not defined\u001b[0m\u001b[0;34m\u001b[0m\u001b[0;34m\u001b[0m\u001b[0m\n\u001b[0m",
            "\u001b[0;31mNameError\u001b[0m: name 'y' is not defined"
          ]
        }
      ]
    },
    {
      "cell_type": "markdown",
      "source": [
        "## Recursion"
      ],
      "metadata": {
        "id": "bDRxYSyV-dsv"
      }
    },
    {
      "cell_type": "code",
      "source": [
        "def factorial(n):\n",
        "    if n == 0:\n",
        "        return 1\n",
        "    else:\n",
        "        return n * factorial(n - 1)"
      ],
      "metadata": {
        "id": "PfO-kP45-dWH"
      },
      "execution_count": 57,
      "outputs": []
    },
    {
      "cell_type": "code",
      "source": [
        "print(factorial(5))"
      ],
      "metadata": {
        "colab": {
          "base_uri": "https://localhost:8080/"
        },
        "id": "_guI6hH5-mVG",
        "outputId": "23e1f52e-c9a6-4724-fe4d-36f3a8227fd6"
      },
      "execution_count": 56,
      "outputs": [
        {
          "output_type": "stream",
          "name": "stdout",
          "text": [
            "120\n"
          ]
        }
      ]
    },
    {
      "cell_type": "markdown",
      "source": [
        "## Nested Functions\n",
        "\n"
      ],
      "metadata": {
        "id": "p_kAYqOXBozZ"
      }
    },
    {
      "cell_type": "code",
      "source": [
        "def outer_function():\n",
        "    message = \"Hello\"\n",
        "\n",
        "    def inner_function():\n",
        "        print(message)\n",
        "\n",
        "    inner_function()"
      ],
      "metadata": {
        "id": "qfdBmsWZBrDI"
      },
      "execution_count": 58,
      "outputs": []
    },
    {
      "cell_type": "code",
      "source": [
        "outer_function()"
      ],
      "metadata": {
        "colab": {
          "base_uri": "https://localhost:8080/"
        },
        "id": "-gniLEvHBxSl",
        "outputId": "ceb93521-04a1-4d7e-c932-d614a06ba26e"
      },
      "execution_count": 59,
      "outputs": [
        {
          "output_type": "stream",
          "name": "stdout",
          "text": [
            "Hello\n"
          ]
        }
      ]
    },
    {
      "cell_type": "markdown",
      "source": [
        "## Docstrings"
      ],
      "metadata": {
        "id": "vxRq2UiV-Em3"
      }
    },
    {
      "cell_type": "code",
      "source": [
        "def juicer(fruit):\n",
        "    \"\"\"\n",
        "    Returns the juice of the given fruit if it is juicable; otherwise, returns a message indicating that the fruit is not juicable.\n",
        "\n",
        "    Parameters:\n",
        "    - fruit (str): The name of the fruit to be juiced.\n",
        "\n",
        "    Returns:\n",
        "    - str: The juice of the given fruit if it is juicable, along with the fruit name, formatted as \"{fruit} juice\".\n",
        "           If the fruit is not juicable, returns a message indicating that the fruit is not juicable, formatted as\n",
        "           \"Oops, here is your {fruit}! This fruit isn't juicable. Please choose another.\"\n",
        "\n",
        "    Example:\n",
        "    >>> juicer(\"Apple\")\n",
        "    'Apple juice'\n",
        "    >>> juicer(\"Banana\")\n",
        "    'Oops, here is your Banana! This fruit isn't juicable. Please choose another.'\n",
        "    \"\"\"\n",
        "    nonJuicableFruits = [\"Banana\", \"Avocado\", \"Coconut\", \"Lychee\", \"Durian\", \"Plantain\", \"Jackfruit\", \"Dates\", \"Fig\", \"Olive\"]\n",
        "    if fruit not in nonJuicableFruits:\n",
        "        return f\"{fruit} juice\"\n",
        "    else:\n",
        "        return f\"Oops, here is your {fruit}! This fruit isn't juicable. Please choose another.\""
      ],
      "metadata": {
        "id": "17vidmYS-FtL"
      },
      "execution_count": 53,
      "outputs": []
    },
    {
      "cell_type": "code",
      "source": [
        "print(juicer.__doc__)"
      ],
      "metadata": {
        "colab": {
          "base_uri": "https://localhost:8080/"
        },
        "id": "jRtOB9Rx-Nhr",
        "outputId": "64f2a4f1-6590-481b-cc87-3433f8b10261"
      },
      "execution_count": 54,
      "outputs": [
        {
          "output_type": "stream",
          "name": "stdout",
          "text": [
            "\n",
            "    Returns the juice of the given fruit if it is juicable; otherwise, returns a message indicating that the fruit is not juicable.\n",
            "\n",
            "    Parameters:\n",
            "    - fruit (str): The name of the fruit to be juiced.\n",
            "\n",
            "    Returns:\n",
            "    - str: The juice of the given fruit if it is juicable, along with the fruit name, formatted as \"{fruit} juice\". \n",
            "           If the fruit is not juicable, returns a message indicating that the fruit is not juicable, formatted as \n",
            "           \"Oops, here is your {fruit}! This fruit isn't juicable. Please choose another.\"\n",
            "\n",
            "    Example:\n",
            "    >>> juicer(\"Apple\")\n",
            "    'Apple juice'\n",
            "    >>> juicer(\"Banana\")\n",
            "    'Oops, here is your Banana! This fruit isn't juicable. Please choose another.'\n",
            "    \n"
          ]
        }
      ]
    },
    {
      "cell_type": "markdown",
      "source": [
        "## Project: Calculator"
      ],
      "metadata": {
        "id": "OoyYQotsB-TK"
      }
    },
    {
      "cell_type": "code",
      "source": [
        "def calculator():\n",
        "    \"\"\"\n",
        "    A simple calculator program that performs basic arithmetic operations.\n",
        "\n",
        "    Functions:\n",
        "    - add(x, y): Adds two numbers.\n",
        "    - subtract(x, y): Subtracts one number from another.\n",
        "    - multiply(x, y): Multiplies two numbers.\n",
        "    - divide(x, y): Divides one number by another.\n",
        "\n",
        "    The user is prompted to choose an operation from the menu:\n",
        "    1. Addition\n",
        "    2. Subtraction\n",
        "    3. Multiplication\n",
        "    4. Division\n",
        "    5. Exit\n",
        "\n",
        "    If '5' is chosen, the program exits. Otherwise, the user is prompted to input two numbers\n",
        "    and the corresponding operation is performed, displaying the result.\n",
        "\n",
        "    Returns:\n",
        "    None\n",
        "    \"\"\"\n",
        "\n",
        "    def add(x, y):\n",
        "        \"\"\"Function to add two numbers\"\"\"\n",
        "        return x + y\n",
        "\n",
        "    def subtract(x, y):\n",
        "        \"\"\"Function to subtract two numbers\"\"\"\n",
        "        return x - y\n",
        "\n",
        "    def multiply(x, y):\n",
        "        \"\"\"Function to multiply two numbers\"\"\"\n",
        "        return x * y\n",
        "\n",
        "    def divide(x, y):\n",
        "        \"\"\"Function to divide two numbers\"\"\"\n",
        "        if y == 0:\n",
        "            return \"Cannot divide by zero!\"\n",
        "        return x / y\n",
        "\n",
        "    print(\"Welcome to Simple Calculator\")\n",
        "\n",
        "    while True:\n",
        "        print(\"\\nSelect operation:\")\n",
        "        print(\"1. Addition\")\n",
        "        print(\"2. Subtraction\")\n",
        "        print(\"3. Multiplication\")\n",
        "        print(\"4. Division\")\n",
        "        print(\"5. Exit\")\n",
        "\n",
        "        choice = input(\"Enter choice (1/2/3/4/5): \")\n",
        "\n",
        "        if choice == '5':\n",
        "            print(\"Exiting the calculator. Goodbye!\")\n",
        "            break\n",
        "        elif choice in ['1', '2', '3', '4']:\n",
        "            num1 = float(input(\"Enter first number: \"))\n",
        "            num2 = float(input(\"Enter second number: \"))\n",
        "            if choice == '1':\n",
        "                print(\"Result:\", add(num1, num2))\n",
        "            elif choice == '2':\n",
        "                print(\"Result:\", subtract(num1, num2))\n",
        "            elif choice == '3':\n",
        "                print(\"Result:\", multiply(num1, num2))\n",
        "            elif choice == '4':\n",
        "                print(\"Result:\", divide(num1, num2))\n",
        "        else:\n",
        "            print(\"Invalid input. Please enter a valid choice.\")\n",
        "            break"
      ],
      "metadata": {
        "id": "uJxKiNcpCAE9"
      },
      "execution_count": 94,
      "outputs": []
    },
    {
      "cell_type": "code",
      "source": [
        "print(calculator.__doc__)"
      ],
      "metadata": {
        "colab": {
          "base_uri": "https://localhost:8080/"
        },
        "id": "NK_pdgLxaFlO",
        "outputId": "c4561979-0957-40ac-9d0c-27abe1626e0c"
      },
      "execution_count": 95,
      "outputs": [
        {
          "output_type": "stream",
          "name": "stdout",
          "text": [
            "\n",
            "    A simple calculator program that performs basic arithmetic operations.\n",
            "\n",
            "    Functions:\n",
            "    - add(x, y): Adds two numbers.\n",
            "    - subtract(x, y): Subtracts one number from another.\n",
            "    - multiply(x, y): Multiplies two numbers.\n",
            "    - divide(x, y): Divides one number by another.\n",
            "\n",
            "    The user is prompted to choose an operation from the menu:\n",
            "    1. Addition\n",
            "    2. Subtraction\n",
            "    3. Multiplication\n",
            "    4. Division\n",
            "    5. Exit\n",
            "\n",
            "    If '5' is chosen, the program exits. Otherwise, the user is prompted to input two numbers\n",
            "    and the corresponding operation is performed, displaying the result.\n",
            "\n",
            "    Returns:\n",
            "    None\n",
            "    \n"
          ]
        }
      ]
    },
    {
      "cell_type": "code",
      "source": [
        "calculator()"
      ],
      "metadata": {
        "colab": {
          "base_uri": "https://localhost:8080/"
        },
        "id": "raALZmzGb9Be",
        "outputId": "8118bb7e-d978-4824-f458-11e87e9ab034"
      },
      "execution_count": 98,
      "outputs": [
        {
          "output_type": "stream",
          "name": "stdout",
          "text": [
            "Welcome to Simple Calculator\n",
            "\n",
            "Select operation:\n",
            "1. Addition\n",
            "2. Subtraction\n",
            "3. Multiplication\n",
            "4. Division\n",
            "5. Exit\n",
            "Enter choice (1/2/3/4/5): 1\n",
            "Enter first number: 12\n",
            "Enter second number: 14\n",
            "Result: 26.0\n",
            "\n",
            "Select operation:\n",
            "1. Addition\n",
            "2. Subtraction\n",
            "3. Multiplication\n",
            "4. Division\n",
            "5. Exit\n",
            "Enter choice (1/2/3/4/5): 2\n",
            "Enter first number: 5\n",
            "Enter second number: -3\n",
            "Result: 8.0\n",
            "\n",
            "Select operation:\n",
            "1. Addition\n",
            "2. Subtraction\n",
            "3. Multiplication\n",
            "4. Division\n",
            "5. Exit\n",
            "Enter choice (1/2/3/4/5): 3\n",
            "Enter first number: 14\n",
            "Enter second number: 2\n",
            "Result: 28.0\n",
            "\n",
            "Select operation:\n",
            "1. Addition\n",
            "2. Subtraction\n",
            "3. Multiplication\n",
            "4. Division\n",
            "5. Exit\n",
            "Enter choice (1/2/3/4/5): 4\n",
            "Enter first number: 5\n",
            "Enter second number: 0\n",
            "Result: Cannot divide by zero!\n",
            "\n",
            "Select operation:\n",
            "1. Addition\n",
            "2. Subtraction\n",
            "3. Multiplication\n",
            "4. Division\n",
            "5. Exit\n",
            "Enter choice (1/2/3/4/5): 5\n",
            "Exiting the calculator. Goodbye!\n"
          ]
        }
      ]
    }
  ]
}