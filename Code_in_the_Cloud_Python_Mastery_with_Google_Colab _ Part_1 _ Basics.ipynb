{
  "nbformat": 4,
  "nbformat_minor": 0,
  "metadata": {
    "colab": {
      "provenance": [],
      "authorship_tag": "ABX9TyO4lJoyhiQ5odY5X+pbJCZI",
      "include_colab_link": true
    },
    "kernelspec": {
      "name": "python3",
      "display_name": "Python 3"
    },
    "language_info": {
      "name": "python"
    }
  },
  "cells": [
    {
      "cell_type": "markdown",
      "metadata": {
        "id": "view-in-github",
        "colab_type": "text"
      },
      "source": [
        "<a href=\"https://colab.research.google.com/github/AmirHosseinAlikhahMishamandani/Code-in-the-Cloud-Python-Mastery-with-Google-Colab/blob/main/Code_in_the_Cloud_Python_Mastery_with_Google_Colab%E2%80%8A_%E2%80%8APart_1%E2%80%8A_%E2%80%8ABasics.ipynb\" target=\"_parent\"><img src=\"https://colab.research.google.com/assets/colab-badge.svg\" alt=\"Open In Colab\"/></a>"
      ]
    },
    {
      "cell_type": "markdown",
      "source": [
        "# Code in the Cloud: Python Mastery with Google Colab - Part 1 - Basics"
      ],
      "metadata": {
        "id": "z0qk2ILzcTzG"
      }
    },
    {
      "cell_type": "markdown",
      "source": [
        "## Writing Your First Python Program\n"
      ],
      "metadata": {
        "id": "vJPBF08GcVzd"
      }
    },
    {
      "cell_type": "code",
      "source": [
        "print(\"Hello, world!\")"
      ],
      "metadata": {
        "colab": {
          "base_uri": "https://localhost:8080/"
        },
        "id": "azo5BXMwc1U3",
        "outputId": "6d7bdf56-1bc4-4db1-8eaa-73006333e396"
      },
      "execution_count": 3,
      "outputs": [
        {
          "output_type": "stream",
          "name": "stdout",
          "text": [
            "Hello, world!\n"
          ]
        }
      ]
    },
    {
      "cell_type": "markdown",
      "source": [
        "## Variables and Basic Data Types"
      ],
      "metadata": {
        "id": "HeYhVeAJmene"
      }
    },
    {
      "cell_type": "code",
      "source": [
        "# Integer\n",
        "my_integer = 5\n",
        "\n",
        "# Float\n",
        "my_float = 3.14\n",
        "\n",
        "# String\n",
        "my_string = \"Hello, world!\"\n",
        "\n",
        "# Boolean\n",
        "my_boolean = True\n",
        "\n",
        "# List\n",
        "my_list = [1, 2, 3, 4, 5]\n",
        "\n",
        "# Tuple\n",
        "my_tuple = (1, 2, 3)\n",
        "\n",
        "# Set\n",
        "my_set = {1, 2, 3}\n",
        "\n",
        "# Dictionary\n",
        "my_dict = {'key1': 'value1', 'key2': 'value2'}\n",
        "\n",
        "# NoneType\n",
        "my_none = None"
      ],
      "metadata": {
        "id": "jPTYLetImfdp"
      },
      "execution_count": 4,
      "outputs": []
    },
    {
      "cell_type": "markdown",
      "source": [
        "## What if we choose to disregard rules?"
      ],
      "metadata": {
        "id": "Y90urrKvqe1w"
      }
    },
    {
      "cell_type": "markdown",
      "source": [
        "### Keep it alphanumeric"
      ],
      "metadata": {
        "id": "U6aP6lDxsKL3"
      }
    },
    {
      "cell_type": "code",
      "source": [
        "integer_1 = 5"
      ],
      "metadata": {
        "id": "EZyoyV5erN9z"
      },
      "execution_count": 7,
      "outputs": []
    },
    {
      "cell_type": "code",
      "source": [
        "1_integer = 5"
      ],
      "metadata": {
        "colab": {
          "base_uri": "https://localhost:8080/",
          "height": 124
        },
        "id": "UCBrlaHyqgrS",
        "outputId": "12f71361-2ab4-4802-a9ce-5657c862ac7a"
      },
      "execution_count": 6,
      "outputs": [
        {
          "output_type": "error",
          "ename": "SyntaxError",
          "evalue": "invalid decimal literal (<ipython-input-6-56de9d6eeef1>, line 1)",
          "traceback": [
            "\u001b[0;36m  File \u001b[0;32m\"<ipython-input-6-56de9d6eeef1>\"\u001b[0;36m, line \u001b[0;32m1\u001b[0m\n\u001b[0;31m    1_integer = 5\u001b[0m\n\u001b[0m     ^\u001b[0m\n\u001b[0;31mSyntaxError\u001b[0m\u001b[0;31m:\u001b[0m invalid decimal literal\n"
          ]
        }
      ]
    },
    {
      "cell_type": "markdown",
      "source": [
        "### Say no to spaces"
      ],
      "metadata": {
        "id": "RJ6Rwc98sNn4"
      }
    },
    {
      "cell_type": "code",
      "source": [
        "My_age = 28"
      ],
      "metadata": {
        "id": "8SS_LCYVsQnj"
      },
      "execution_count": 8,
      "outputs": []
    },
    {
      "cell_type": "code",
      "source": [
        "My age = 28"
      ],
      "metadata": {
        "colab": {
          "base_uri": "https://localhost:8080/",
          "height": 124
        },
        "id": "0pcfORvYsTuh",
        "outputId": "7438a223-961a-441d-e167-9ad32dd0d199"
      },
      "execution_count": 10,
      "outputs": [
        {
          "output_type": "error",
          "ename": "SyntaxError",
          "evalue": "invalid syntax (<ipython-input-10-b03a508b6d02>, line 1)",
          "traceback": [
            "\u001b[0;36m  File \u001b[0;32m\"<ipython-input-10-b03a508b6d02>\"\u001b[0;36m, line \u001b[0;32m1\u001b[0m\n\u001b[0;31m    My age = 28\u001b[0m\n\u001b[0m       ^\u001b[0m\n\u001b[0;31mSyntaxError\u001b[0m\u001b[0;31m:\u001b[0m invalid syntax\n"
          ]
        }
      ]
    },
    {
      "cell_type": "markdown",
      "source": [
        "### Steer clear of reserved words"
      ],
      "metadata": {
        "id": "TrgIPySfs520"
      }
    },
    {
      "cell_type": "code",
      "source": [
        "False = 0"
      ],
      "metadata": {
        "colab": {
          "base_uri": "https://localhost:8080/",
          "height": 124
        },
        "id": "ohPCw6o2s6w4",
        "outputId": "21fb009c-62bc-4f55-aa1e-f18dae6e7159"
      },
      "execution_count": 12,
      "outputs": [
        {
          "output_type": "error",
          "ename": "SyntaxError",
          "evalue": "cannot assign to False (<ipython-input-12-223dbc74e028>, line 1)",
          "traceback": [
            "\u001b[0;36m  File \u001b[0;32m\"<ipython-input-12-223dbc74e028>\"\u001b[0;36m, line \u001b[0;32m1\u001b[0m\n\u001b[0;31m    False = 0\u001b[0m\n\u001b[0m    ^\u001b[0m\n\u001b[0;31mSyntaxError\u001b[0m\u001b[0;31m:\u001b[0m cannot assign to False\n"
          ]
        }
      ]
    },
    {
      "cell_type": "markdown",
      "source": [
        "### Mind the lookalikes"
      ],
      "metadata": {
        "id": "FZezeqHwtceu"
      }
    },
    {
      "cell_type": "code",
      "source": [
        "Name0 = 28\n",
        "\n",
        "print(NameO)"
      ],
      "metadata": {
        "colab": {
          "base_uri": "https://localhost:8080/",
          "height": 190
        },
        "id": "LSiY90rQtdpd",
        "outputId": "91489095-4e6f-49c8-9ee2-27919afa6d28"
      },
      "execution_count": 13,
      "outputs": [
        {
          "output_type": "error",
          "ename": "NameError",
          "evalue": "name 'NameO' is not defined",
          "traceback": [
            "\u001b[0;31m---------------------------------------------------------------------------\u001b[0m",
            "\u001b[0;31mNameError\u001b[0m                                 Traceback (most recent call last)",
            "\u001b[0;32m<ipython-input-13-91b7c4959960>\u001b[0m in \u001b[0;36m<cell line: 3>\u001b[0;34m()\u001b[0m\n\u001b[1;32m      1\u001b[0m \u001b[0mName0\u001b[0m \u001b[0;34m=\u001b[0m \u001b[0;36m28\u001b[0m\u001b[0;34m\u001b[0m\u001b[0;34m\u001b[0m\u001b[0m\n\u001b[1;32m      2\u001b[0m \u001b[0;34m\u001b[0m\u001b[0m\n\u001b[0;32m----> 3\u001b[0;31m \u001b[0mprint\u001b[0m\u001b[0;34m(\u001b[0m\u001b[0mNameO\u001b[0m\u001b[0;34m)\u001b[0m\u001b[0;34m\u001b[0m\u001b[0;34m\u001b[0m\u001b[0m\n\u001b[0m",
            "\u001b[0;31mNameError\u001b[0m: name 'NameO' is not defined"
          ]
        }
      ]
    },
    {
      "cell_type": "markdown",
      "source": [
        "## Printing Variable Values"
      ],
      "metadata": {
        "id": "Y-0gh3slqj7N"
      }
    },
    {
      "cell_type": "markdown",
      "source": [
        "### Using the print() function"
      ],
      "metadata": {
        "id": "7FFVcK1FsgBj"
      }
    },
    {
      "cell_type": "code",
      "source": [
        "# Integer\n",
        "my_integer = 5\n",
        "print(my_integer)\n",
        "# Float\n",
        "my_float = 3.14\n",
        "print(my_float)\n",
        "# String\n",
        "my_string = \"Hello, world!\"\n",
        "print(my_string)\n",
        "# Boolean\n",
        "my_boolean = True\n",
        "print(my_boolean)\n",
        "# List\n",
        "my_list = [1, 2, 3, 4, 5]\n",
        "print(my_list)\n",
        "# Tuple\n",
        "my_tuple = (1, 2, 3)\n",
        "print(my_tuple)\n",
        "# Set\n",
        "my_set = {1, 2, 3}\n",
        "print(my_set)\n",
        "# Dictionary\n",
        "my_dict = {'key1': 'value1', 'key2': 'value2'}\n",
        "print(my_dict)\n",
        "# NoneType\n",
        "my_none = None\n",
        "print(my_none)"
      ],
      "metadata": {
        "colab": {
          "base_uri": "https://localhost:8080/"
        },
        "id": "W6X8cgyBqmbH",
        "outputId": "cf9ad356-30ea-476c-977a-d6c6b9b63073"
      },
      "execution_count": 1,
      "outputs": [
        {
          "output_type": "stream",
          "name": "stdout",
          "text": [
            "5\n",
            "3.14\n",
            "Hello, world!\n",
            "True\n",
            "[1, 2, 3, 4, 5]\n",
            "(1, 2, 3)\n",
            "{1, 2, 3}\n",
            "{'key1': 'value1', 'key2': 'value2'}\n",
            "None\n"
          ]
        }
      ]
    },
    {
      "cell_type": "markdown",
      "source": [
        "### Formatted strings (f-strings)"
      ],
      "metadata": {
        "id": "J0r8qK-ushTC"
      }
    },
    {
      "cell_type": "code",
      "source": [
        "# Integer\n",
        "my_integer = 5\n",
        "print(f'My integer is: {my_integer}')\n",
        "# Float\n",
        "my_float = 3.14\n",
        "print(f'My float is: {my_float}')\n",
        "# String\n",
        "my_string = \"Hello, world!\"\n",
        "print(f'My string is: {my_string}')\n",
        "# Boolean\n",
        "my_boolean = True\n",
        "print(f'My boolean is: {my_boolean}')\n",
        "# List\n",
        "my_list = [1, 2, 3, 4, 5]\n",
        "print(f'My list is: {my_list}')\n",
        "# Tuple\n",
        "my_tuple = (1, 2, 3)\n",
        "print(f'My tuple is: {my_tuple}')\n",
        "# Set\n",
        "my_set = {1, 2, 3}\n",
        "print(f'My set is: {my_set}')\n",
        "# Dictionary\n",
        "my_dict = {'key1': 'value1', 'key2': 'value2'}\n",
        "print(f'My dictionary is: {my_dict}')\n",
        "# NoneType\n",
        "my_none = None\n",
        "print(f'My NoneType is: {my_none}')"
      ],
      "metadata": {
        "colab": {
          "base_uri": "https://localhost:8080/"
        },
        "id": "badXJtPescSQ",
        "outputId": "43350af1-bb94-4a10-b71a-6092ccc5766e"
      },
      "execution_count": 2,
      "outputs": [
        {
          "output_type": "stream",
          "name": "stdout",
          "text": [
            "My integer is: 5\n",
            "My float is: 3.14\n",
            "My string is: Hello, world!\n",
            "My boolean is: True\n",
            "My list is: [1, 2, 3, 4, 5]\n",
            "My tuple is: (1, 2, 3)\n",
            "My set is: {1, 2, 3}\n",
            "My dictionary is: {'key1': 'value1', 'key2': 'value2'}\n",
            "My NoneType is: None\n"
          ]
        }
      ]
    },
    {
      "cell_type": "code",
      "source": [
        "# Integer\n",
        "my_integer = 5\n",
        "# Float\n",
        "my_float = 3.14\n",
        "# String\n",
        "my_string = \"Hello, world!\"\n",
        "# Boolean\n",
        "my_boolean = True\n",
        "print(f'My integer is: {my_integer}. My float is: {my_float}. My string is: {my_string}. My boolean is: {my_boolean}.')"
      ],
      "metadata": {
        "colab": {
          "base_uri": "https://localhost:8080/"
        },
        "id": "SrvUDGyCumio",
        "outputId": "3a647dc9-18da-44dc-de23-f8bd58564269"
      },
      "execution_count": 4,
      "outputs": [
        {
          "output_type": "stream",
          "name": "stdout",
          "text": [
            "My integer is: 5. My float is: 3.14. My string is: Hello, world!. My boolean is: True.\n"
          ]
        }
      ]
    },
    {
      "cell_type": "markdown",
      "source": [
        "### Using the format() method"
      ],
      "metadata": {
        "id": "sceSwBCEwDbn"
      }
    },
    {
      "cell_type": "code",
      "source": [
        "# Integer\n",
        "my_integer = 5\n",
        "# Float\n",
        "my_float = 3.14\n",
        "# String\n",
        "my_string = \"Hello, world!\"\n",
        "# Boolean\n",
        "my_boolean = True\n",
        "print('My integer is: {}. My float is: {}. My string is: {}. My boolean is: {}.'.format(my_integer,my_float,my_string,my_boolean))"
      ],
      "metadata": {
        "colab": {
          "base_uri": "https://localhost:8080/"
        },
        "id": "kiu9SPvbwC48",
        "outputId": "804ef16b-5c34-4649-e512-af70bfe179f5"
      },
      "execution_count": 7,
      "outputs": [
        {
          "output_type": "stream",
          "name": "stdout",
          "text": [
            "My integer is: 5. My float is: 3.14. My string is: Hello, world!. My boolean is: True.\n"
          ]
        }
      ]
    },
    {
      "cell_type": "markdown",
      "source": [
        "### Using % formatting"
      ],
      "metadata": {
        "id": "tdSgJYeixb1U"
      }
    },
    {
      "cell_type": "code",
      "source": [
        "# Integer\n",
        "my_integer = 5\n",
        "# Float\n",
        "my_float = 3.14\n",
        "# String\n",
        "my_string = \"Hello, world!\"\n",
        "# Boolean\n",
        "my_boolean = True\n",
        "\n",
        "# print statement\n",
        "print('My integer is: %d. My float is: %f. My string is: %s. My boolean is: %s.' % (my_integer, my_float, my_string, my_boolean))"
      ],
      "metadata": {
        "colab": {
          "base_uri": "https://localhost:8080/"
        },
        "id": "pwLKHyc_xeQn",
        "outputId": "cd73bbb9-8dc3-48c3-dcbf-3b2ae083bbc4"
      },
      "execution_count": 8,
      "outputs": [
        {
          "output_type": "stream",
          "name": "stdout",
          "text": [
            "My integer is: 5. My float is: 3.140000. My string is: Hello, world!. My boolean is: True.\n"
          ]
        }
      ]
    },
    {
      "cell_type": "markdown",
      "source": [
        "## Receiving Input"
      ],
      "metadata": {
        "id": "4fjm8NLNv2Tw"
      }
    },
    {
      "cell_type": "code",
      "source": [
        "name = input(\"Please, enter your name:\")\n",
        "print(\"Hello,\", name, \"! Nice to meet you.\")"
      ],
      "metadata": {
        "colab": {
          "base_uri": "https://localhost:8080/"
        },
        "id": "0ueL76sEv3EA",
        "outputId": "4f4c005b-5699-4012-ce09-252e59dd997b"
      },
      "execution_count": 12,
      "outputs": [
        {
          "output_type": "stream",
          "name": "stdout",
          "text": [
            "Please, enter your name:Amir\n",
            "Hello, Amir ! Nice to meet you.\n"
          ]
        }
      ]
    },
    {
      "cell_type": "code",
      "source": [
        "# Prompt the user to enter their name and age separated by a comma\n",
        "data = input(\"Please enter your name and age separated by a comma: \")\n",
        "\n",
        "# Split the input string based on the comma delimiter\n",
        "name, age = data.split(',')\n",
        "\n",
        "# Display a message using the entered name and age\n",
        "print(\"Hello,\", name.strip(), \"! You are\", age, \"years old.\")"
      ],
      "metadata": {
        "colab": {
          "base_uri": "https://localhost:8080/"
        },
        "id": "GDoeUZic2ejC",
        "outputId": "e133839f-75f5-4e4c-fca3-534f1c276737"
      },
      "execution_count": 14,
      "outputs": [
        {
          "output_type": "stream",
          "name": "stdout",
          "text": [
            "Please enter your name and age separated by a comma: Amir, 28\n",
            "Hello, Amir ! You are  28 years old.\n"
          ]
        }
      ]
    },
    {
      "cell_type": "markdown",
      "source": [
        "## Different Ways of Casting Variable Types"
      ],
      "metadata": {
        "id": "YBLZAoH24-jV"
      }
    },
    {
      "cell_type": "code",
      "source": [
        "# Prompt the user to enter their name and age separated by a comma\n",
        "data = input(\"Please enter your name and age separated by a comma: \")\n",
        "\n",
        "# Split the input string based on the comma delimiter\n",
        "name, age = data.split(',')\n",
        "\n",
        "# Display a message using the entered name and age\n",
        "print(\"Hello,\", name.strip(), \"! You are\", age+1, \"years old.\")"
      ],
      "metadata": {
        "colab": {
          "base_uri": "https://localhost:8080/",
          "height": 206
        },
        "id": "uYpRhSq64_X8",
        "outputId": "fe317d6b-0d2c-43d2-a791-12f1a06c1ac7"
      },
      "execution_count": 15,
      "outputs": [
        {
          "name": "stdout",
          "output_type": "stream",
          "text": [
            "Please enter your name and age separated by a comma: Amir, 28\n"
          ]
        },
        {
          "output_type": "error",
          "ename": "TypeError",
          "evalue": "can only concatenate str (not \"int\") to str",
          "traceback": [
            "\u001b[0;31m---------------------------------------------------------------------------\u001b[0m",
            "\u001b[0;31mTypeError\u001b[0m                                 Traceback (most recent call last)",
            "\u001b[0;32m<ipython-input-15-77d8e1723c2f>\u001b[0m in \u001b[0;36m<cell line: 8>\u001b[0;34m()\u001b[0m\n\u001b[1;32m      6\u001b[0m \u001b[0;34m\u001b[0m\u001b[0m\n\u001b[1;32m      7\u001b[0m \u001b[0;31m# Display a message using the entered name and age\u001b[0m\u001b[0;34m\u001b[0m\u001b[0;34m\u001b[0m\u001b[0m\n\u001b[0;32m----> 8\u001b[0;31m \u001b[0mprint\u001b[0m\u001b[0;34m(\u001b[0m\u001b[0;34m\"Hello,\"\u001b[0m\u001b[0;34m,\u001b[0m \u001b[0mname\u001b[0m\u001b[0;34m.\u001b[0m\u001b[0mstrip\u001b[0m\u001b[0;34m(\u001b[0m\u001b[0;34m)\u001b[0m\u001b[0;34m,\u001b[0m \u001b[0;34m\"! You are\"\u001b[0m\u001b[0;34m,\u001b[0m \u001b[0mage\u001b[0m\u001b[0;34m+\u001b[0m\u001b[0;36m1\u001b[0m\u001b[0;34m,\u001b[0m \u001b[0;34m\"years old.\"\u001b[0m\u001b[0;34m)\u001b[0m\u001b[0;34m\u001b[0m\u001b[0;34m\u001b[0m\u001b[0m\n\u001b[0m",
            "\u001b[0;31mTypeError\u001b[0m: can only concatenate str (not \"int\") to str"
          ]
        }
      ]
    },
    {
      "cell_type": "code",
      "source": [
        "# Integer to String\n",
        "x = 10\n",
        "str_x = str(x)\n",
        "print(str_x)  # Output: '10'\n",
        "\n",
        "# String to Integer\n",
        "y = '20'\n",
        "int_y = int(y)\n",
        "print(int_y)  # Output: 20\n",
        "\n",
        "# String to Float\n",
        "z = '3.14'\n",
        "float_z = float(z)\n",
        "print(float_z)  # Output: 3.14\n",
        "\n",
        "# Float to Integer\n",
        "a = 5.8\n",
        "int_a = int(a)\n",
        "print(int_a)  # Output: 5"
      ],
      "metadata": {
        "colab": {
          "base_uri": "https://localhost:8080/"
        },
        "id": "IKp-ylEb7YB3",
        "outputId": "dfed984d-8664-4920-e7b6-1faf7e0658e3"
      },
      "execution_count": 16,
      "outputs": [
        {
          "output_type": "stream",
          "name": "stdout",
          "text": [
            "10\n",
            "20\n",
            "3.14\n",
            "5\n"
          ]
        }
      ]
    },
    {
      "cell_type": "code",
      "source": [
        "# Prompt the user to enter their name and age separated by a comma\n",
        "data = input(\"Please enter your name and age separated by a comma: \")\n",
        "\n",
        "# Split the input string based on the comma delimiter\n",
        "name, age_str = data.split(',')\n",
        "\n",
        "# Convert the entered age string to an integer\n",
        "age = int(age_str)\n",
        "\n",
        "age = age + 1\n",
        "\n",
        "# Display a message using the entered name and age\n",
        "print(\"Hello,\", name.strip(), \"! You are\", age, \"years old.\")"
      ],
      "metadata": {
        "colab": {
          "base_uri": "https://localhost:8080/"
        },
        "id": "h4-ImWK8AhZz",
        "outputId": "bbd5bd2a-4cb2-43b8-d3f0-0f15701c17cb"
      },
      "execution_count": 18,
      "outputs": [
        {
          "output_type": "stream",
          "name": "stdout",
          "text": [
            "Please enter your name and age separated by a comma: Amir, 28\n",
            "Hello, Amir ! You are 29 years old.\n"
          ]
        }
      ]
    },
    {
      "cell_type": "markdown",
      "source": [
        "## A Comprehensive Guide to Arithmetic Operations"
      ],
      "metadata": {
        "id": "TANylL0cBdcJ"
      }
    },
    {
      "cell_type": "code",
      "source": [
        "# Addition\n",
        "result_addition = 3 + 5\n",
        "print(\"Addition:\", result_addition)  # Output: 8\n",
        "\n",
        "# Subtraction\n",
        "result_subtraction = 7 - 2\n",
        "print(\"Subtraction:\", result_subtraction)  # Output: 5\n",
        "\n",
        "# Multiplication\n",
        "result_multiplication = 4 * 6\n",
        "print(\"Multiplication:\", result_multiplication)  # Output: 24\n",
        "\n",
        "# Division\n",
        "result_division = 10 / 3\n",
        "print(\"Division:\", result_division)  # Output: 3.3333\n",
        "\n",
        "# Exponentiation\n",
        "result_exponentiation = 2 ** 3\n",
        "print(\"Exponentiation:\", result_exponentiation)  # Output: 8\n",
        "\n",
        "# Floor Division\n",
        "result_floor_division = 10 // 3\n",
        "print(\"Floor Division:\", result_floor_division)  # Output: 3\n",
        "\n",
        "# Modulus\n",
        "result_modulus = 10 % 3\n",
        "print(\"Modulus:\", result_modulus)  # Output: 1"
      ],
      "metadata": {
        "colab": {
          "base_uri": "https://localhost:8080/"
        },
        "id": "1fAbAMBPBeUX",
        "outputId": "89826cc0-863b-4da4-dbbe-919c7816a75c"
      },
      "execution_count": 20,
      "outputs": [
        {
          "output_type": "stream",
          "name": "stdout",
          "text": [
            "Addition: 8\n",
            "Subtraction: 5\n",
            "Multiplication: 24\n",
            "Division: 3.3333333333333335\n",
            "Exponentiation: 8\n",
            "Floor Division: 3\n",
            "Modulus: 1\n"
          ]
        }
      ]
    },
    {
      "cell_type": "markdown",
      "source": [
        "## Comprehensive Guide to String Manipulation"
      ],
      "metadata": {
        "id": "LzzVMELxDvhd"
      }
    },
    {
      "cell_type": "markdown",
      "source": [
        "### Concatenation"
      ],
      "metadata": {
        "id": "WAWw3GIJF7Ba"
      }
    },
    {
      "cell_type": "code",
      "source": [
        "str1 = \"Amir Hossein\"\n",
        "str2 = \"Alikhah Mishamandani\"\n",
        "concatenated_str = str1 + \" \" + str2\n",
        "print(concatenated_str)  # Output: Amir Hossein Alikhah Mishamandani"
      ],
      "metadata": {
        "colab": {
          "base_uri": "https://localhost:8080/"
        },
        "id": "izvWj98hDxjK",
        "outputId": "1c4f6aac-7d8d-4ab5-e4b4-b45de3273e72"
      },
      "execution_count": 26,
      "outputs": [
        {
          "output_type": "stream",
          "name": "stdout",
          "text": [
            "Amir Hossein Alikhah Mishamandani\n"
          ]
        }
      ]
    },
    {
      "cell_type": "markdown",
      "source": [
        "### Accessing Characters"
      ],
      "metadata": {
        "id": "FRjB3intGbo1"
      }
    },
    {
      "cell_type": "code",
      "source": [
        "my_string = \"Python\"\n",
        "print(my_string[0])  # Output the first character: P\n",
        "print(my_string[-1])  # Output the last character: n"
      ],
      "metadata": {
        "colab": {
          "base_uri": "https://localhost:8080/"
        },
        "id": "xemBGMs5Geaf",
        "outputId": "80283cc5-4c7d-4fbc-b7f1-db9d1e637fc4"
      },
      "execution_count": 27,
      "outputs": [
        {
          "output_type": "stream",
          "name": "stdout",
          "text": [
            "P\n",
            "n\n"
          ]
        }
      ]
    },
    {
      "cell_type": "markdown",
      "source": [
        "### Slicing"
      ],
      "metadata": {
        "id": "e7HWQ1QiH6hz"
      }
    },
    {
      "cell_type": "code",
      "source": [
        "my_string = \"Python Programming\"\n",
        "substring = my_string[7:18]\n",
        "print(substring)  # Output: Programming"
      ],
      "metadata": {
        "colab": {
          "base_uri": "https://localhost:8080/"
        },
        "id": "9XytnHIqH7JW",
        "outputId": "fb44d9fd-cd22-4c1e-c287-c4bb2cb5159d"
      },
      "execution_count": 28,
      "outputs": [
        {
          "output_type": "stream",
          "name": "stdout",
          "text": [
            "Programming\n"
          ]
        }
      ]
    },
    {
      "cell_type": "markdown",
      "source": [
        "### String Length"
      ],
      "metadata": {
        "id": "zvkGB4-_JFWy"
      }
    },
    {
      "cell_type": "code",
      "source": [
        "my_string = \"Python Programming\"\n",
        "print(len(my_string))  # Output: 18"
      ],
      "metadata": {
        "colab": {
          "base_uri": "https://localhost:8080/"
        },
        "id": "egxcMQflJGLN",
        "outputId": "168af3e0-060c-4e32-9e27-d789042933ae"
      },
      "execution_count": 29,
      "outputs": [
        {
          "output_type": "stream",
          "name": "stdout",
          "text": [
            "18\n"
          ]
        }
      ]
    },
    {
      "cell_type": "markdown",
      "source": [
        "### Changing Case"
      ],
      "metadata": {
        "id": "lzvJ1a8kJrsL"
      }
    },
    {
      "cell_type": "code",
      "source": [
        "# Define a string variable containing the text \"Hello, World!\"\n",
        "my_string = \"Hello, World!\"\n",
        "\n",
        "# Print the lowercase version of the string\n",
        "print(my_string.lower())  # Output: hello, world!\n",
        "\n",
        "# Print the uppercase version of the string\n",
        "print(my_string.upper())  # Output: HELLO, WORLD!\n",
        "\n",
        "# Print the string with the first character capitalized and the rest lowercase\n",
        "print(my_string.capitalize())  # Output: Hello, world!\n",
        "\n",
        "# Print the string with the first character of each word capitalized and the rest lowercase\n",
        "print(my_string.title())  # Output: Hello, World!"
      ],
      "metadata": {
        "colab": {
          "base_uri": "https://localhost:8080/"
        },
        "id": "1vMs1xUbJsbx",
        "outputId": "2bf75341-4d5f-4249-c699-a002a5d09977"
      },
      "execution_count": 31,
      "outputs": [
        {
          "output_type": "stream",
          "name": "stdout",
          "text": [
            "hello, world!\n",
            "HELLO, WORLD!\n",
            "Hello, world!\n",
            "Hello, World!\n"
          ]
        }
      ]
    },
    {
      "cell_type": "markdown",
      "source": [
        "### String Replacement"
      ],
      "metadata": {
        "id": "BaXjAiWpKHFT"
      }
    },
    {
      "cell_type": "code",
      "source": [
        "my_string = \"His name is Mike! Mike is from Iran. Mike is 28 years old! Welcome, Mike!\"\n",
        "new_string = my_string.replace(\"Mike\", \"Amir\")\n",
        "print(new_string)"
      ],
      "metadata": {
        "colab": {
          "base_uri": "https://localhost:8080/"
        },
        "id": "73Rz-a9QKIhc",
        "outputId": "e3b9c09f-c446-47e2-cd23-df5e883c6261"
      },
      "execution_count": 32,
      "outputs": [
        {
          "output_type": "stream",
          "name": "stdout",
          "text": [
            "His name is Amir! Amir is from Iran. Amir is 28 years old! Welcome, Amir!\n"
          ]
        }
      ]
    },
    {
      "cell_type": "markdown",
      "source": [
        "### Splitting"
      ],
      "metadata": {
        "id": "sZktjbGALdNE"
      }
    },
    {
      "cell_type": "code",
      "source": [
        "my_string = \"apple,banana,orange,mango,grape,kiwi,pear,pineapple,strawberry,watermelon\"\n",
        "fruits_list = my_string.split(\",\")\n",
        "print(fruits_list)"
      ],
      "metadata": {
        "colab": {
          "base_uri": "https://localhost:8080/"
        },
        "id": "tT7ajUTDLeFQ",
        "outputId": "4f9f0ee2-4e34-4a38-db06-69f59fd1a144"
      },
      "execution_count": 35,
      "outputs": [
        {
          "output_type": "stream",
          "name": "stdout",
          "text": [
            "['apple', 'banana', 'orange', 'mango', 'grape', 'kiwi', 'pear', 'pineapple', 'strawberry', 'watermelon']\n"
          ]
        }
      ]
    },
    {
      "cell_type": "markdown",
      "source": [
        "### Checking Substrings"
      ],
      "metadata": {
        "id": "RkdBJACaL_U5"
      }
    },
    {
      "cell_type": "code",
      "source": [
        "my_string = \"Python is great\"\n",
        "print(\"Python\" in my_string)  # Output: True\n",
        "print(\"Java\" in my_string)  # Output: False"
      ],
      "metadata": {
        "colab": {
          "base_uri": "https://localhost:8080/"
        },
        "id": "ZgVdYEa1L_-c",
        "outputId": "a84f85a9-9232-458e-9b64-c938a3d67d83"
      },
      "execution_count": 36,
      "outputs": [
        {
          "output_type": "stream",
          "name": "stdout",
          "text": [
            "True\n",
            "False\n"
          ]
        }
      ]
    }
  ]
}